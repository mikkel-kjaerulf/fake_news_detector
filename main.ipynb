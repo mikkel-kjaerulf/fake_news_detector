{
 "cells": [
  {
   "attachments": {},
   "cell_type": "markdown",
   "metadata": {},
   "source": [
    "Get subset of FakeNewCorpus data set"
   ]
  },
  {
   "cell_type": "code",
   "execution_count": 2,
   "metadata": {},
   "outputs": [
    {
     "data": {
      "text/plain": [
       "'never hike alone: a friday the 13th fan film usa | <number> | <number> min a fan tribute to friday the 13th, never hike alone follows an adventure never hike alone: a friday the 13th fan film usa | <number> | <number> min a fan tribute to friday the 13th, never hike alone follows an adventure blogger, kyle mcleod (andrew leighty), who uncovers the long lost remains of camp crystal lake while on a solo backpacking trip. ignoring the campfire tales from his childhood, kyle\\'s search turns deadly when he makes the grave mistake of crossing the path of camp blood\\'s legendary mass murderer, jason voorhees. stranded in the forest with jason on his heels, kyle must push his survival skills to their limits if he hopes to survive the night. otherwise, he\\'ll wind up as another lost victim of the cursed camp. directed by vincente disanti screenplay by vincente disanti and nathan mcleod based on characters created by sean cunningham victor miller ron kurtz starring: andrew leighty as kyle mcleod vincente disanti as jason voorhees executive producers barry jay stitch carolyn gair sarah disanti producers kyle klein daniel evans matthew barrett co-producers steven squillante christopher thellas alexander thellas associate producers cody cameron christian ascencio lydia ascencio lynn hobson rene rivas mike whelan directors of photography christopher thellas j.d. martz production designer brittany porter special make up effects kelsey berk wardrobe stephen boyd-morales stunts jessica bennett bryan forrest as jason voorhees donny nichols as kyle mcleod film editing by lawrence gan sarah disanti unit stills photography ashly covington music by ryan perez-daple \"run like hell\" written by: vincente disanti, jake gonsalves, lenny machado performed by: gonsalves, machado recorded at: elm street studios, new bedford, ma <number> appears courtesy of: damn enchiladas \"another soul\" written and performed by: trevor vaughan appears on: finally salao mix tape recorded at: the colosseum, new bedford, ma <number> appears courtesy of: trevor vaughan & mass glory records for additional cast and crew visit: <url> <url> disclaimer this production is the effort of womp stomp films, llc and its volunteer associates. never hike alone is a product of fan fiction and in no way affiliated with, or a representative of the viacom/paramount film company, warner brothers, new line cinema, horror inc, the friday the 13th film property, or its characters. this project was created by fans, for fans, to show appreciation for the friday the 13th franchise. as of friday the 13th october <number>, this project will be made free and available to all who care to watch it. no profit shall be made off its viewing. thank you to any and all who assisted in bringing the project to life. womp stomp films is forever grateful for your time and dedication to the project. thank you for watching.'"
      ]
     },
     "execution_count": 2,
     "metadata": {},
     "output_type": "execute_result"
    }
   ],
   "source": [
    "import pandas as pd\n",
    "from cleantext import clean\n",
    "import nltk as tk\n",
    "\n",
    "data = pd.read_csv('https://raw.githubusercontent.com/several27/FakeNewsCorpus/master/news_sample.csv')\n",
    "data['content'] = [clean(entry,\n",
    "                              lower=True,\n",
    "                              no_line_breaks=True,\n",
    "                              no_emails=True,\n",
    "                              no_urls=True,\n",
    "                              no_numbers=True,\n",
    "                               lang=\"en\"\n",
    "                              ) for entry in data['content']]\n",
    "data['content'][2]"
   ]
  }
 ],
 "metadata": {
  "kernelspec": {
   "display_name": "fn",
   "language": "python",
   "name": "python3"
  },
  "language_info": {
   "codemirror_mode": {
    "name": "ipython",
    "version": 3
   },
   "file_extension": ".py",
   "mimetype": "text/x-python",
   "name": "python",
   "nbconvert_exporter": "python",
   "pygments_lexer": "ipython3",
   "version": "3.10.9"
  },
  "orig_nbformat": 4,
  "vscode": {
   "interpreter": {
    "hash": "27193e72253e909af461fe5ce6f291b20f717232337fed9f8b7d9a2e1fae41b6"
   }
  }
 },
 "nbformat": 4,
 "nbformat_minor": 2
}
