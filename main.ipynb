{
 "cells": [
  {
   "cell_type": "markdown",
   "metadata": {},
   "source": [
    "# Fake News Exploratory Data Analysis"
   ]
  },
  {
   "attachments": {},
   "cell_type": "markdown",
   "metadata": {},
   "source": [
    "Get subset of FakeNewCorpus data set."
   ]
  },
  {
   "cell_type": "code",
   "execution_count": 74,
   "metadata": {},
   "outputs": [
    {
     "data": {
      "text/html": [
       "<div>\n",
       "<style scoped>\n",
       "    .dataframe tbody tr th:only-of-type {\n",
       "        vertical-align: middle;\n",
       "    }\n",
       "\n",
       "    .dataframe tbody tr th {\n",
       "        vertical-align: top;\n",
       "    }\n",
       "\n",
       "    .dataframe thead th {\n",
       "        text-align: right;\n",
       "    }\n",
       "</style>\n",
       "<table border=\"1\" class=\"dataframe\">\n",
       "  <thead>\n",
       "    <tr style=\"text-align: right;\">\n",
       "      <th></th>\n",
       "      <th>id</th>\n",
       "      <th>domain</th>\n",
       "      <th>type</th>\n",
       "      <th>url</th>\n",
       "      <th>content</th>\n",
       "      <th>scraped_at</th>\n",
       "      <th>inserted_at</th>\n",
       "      <th>updated_at</th>\n",
       "      <th>title</th>\n",
       "      <th>authors</th>\n",
       "      <th>keywords</th>\n",
       "      <th>meta_keywords</th>\n",
       "      <th>meta_description</th>\n",
       "      <th>tags</th>\n",
       "      <th>summary</th>\n",
       "    </tr>\n",
       "  </thead>\n",
       "  <tbody>\n",
       "    <tr>\n",
       "      <th>0</th>\n",
       "      <td>141</td>\n",
       "      <td>awm.com</td>\n",
       "      <td>unreliable</td>\n",
       "      <td>http://awm.com/church-congregation-brings-gift...</td>\n",
       "      <td>Sometimes the power of Christmas will make you...</td>\n",
       "      <td>2018-01-25 16:17:44.789555</td>\n",
       "      <td>2018-02-02 01:19:41.756632</td>\n",
       "      <td>2018-02-02 01:19:41.756664</td>\n",
       "      <td>Church Congregation Brings Gift to Waitresses ...</td>\n",
       "      <td>Ruth Harris</td>\n",
       "      <td>NaN</td>\n",
       "      <td>['']</td>\n",
       "      <td>NaN</td>\n",
       "      <td>NaN</td>\n",
       "      <td>NaN</td>\n",
       "    </tr>\n",
       "    <tr>\n",
       "      <th>1</th>\n",
       "      <td>256</td>\n",
       "      <td>beforeitsnews.com</td>\n",
       "      <td>fake</td>\n",
       "      <td>http://beforeitsnews.com/awakening-start-here/...</td>\n",
       "      <td>AWAKENING OF 12 STRANDS of DNA – “Reconnecting...</td>\n",
       "      <td>2018-01-25 16:17:44.789555</td>\n",
       "      <td>2018-02-02 01:19:41.756632</td>\n",
       "      <td>2018-02-02 01:19:41.756664</td>\n",
       "      <td>AWAKENING OF 12 STRANDS of DNA – “Reconnecting...</td>\n",
       "      <td>Zurich Times</td>\n",
       "      <td>NaN</td>\n",
       "      <td>['']</td>\n",
       "      <td>NaN</td>\n",
       "      <td>NaN</td>\n",
       "      <td>NaN</td>\n",
       "    </tr>\n",
       "    <tr>\n",
       "      <th>2</th>\n",
       "      <td>700</td>\n",
       "      <td>cnnnext.com</td>\n",
       "      <td>unreliable</td>\n",
       "      <td>http://www.cnnnext.com/video/18526/never-hike-...</td>\n",
       "      <td>Never Hike Alone: A Friday the 13th Fan Film U...</td>\n",
       "      <td>2018-01-25 16:17:44.789555</td>\n",
       "      <td>2018-02-02 01:19:41.756632</td>\n",
       "      <td>2018-02-02 01:19:41.756664</td>\n",
       "      <td>Never Hike Alone - A Friday the 13th Fan Film ...</td>\n",
       "      <td>NaN</td>\n",
       "      <td>NaN</td>\n",
       "      <td>['']</td>\n",
       "      <td>Never Hike Alone: A Friday the 13th Fan Film  ...</td>\n",
       "      <td>NaN</td>\n",
       "      <td>NaN</td>\n",
       "    </tr>\n",
       "    <tr>\n",
       "      <th>3</th>\n",
       "      <td>768</td>\n",
       "      <td>awm.com</td>\n",
       "      <td>unreliable</td>\n",
       "      <td>http://awm.com/elusive-alien-of-the-sea-caught...</td>\n",
       "      <td>When a rare shark was caught, scientists were ...</td>\n",
       "      <td>2018-01-25 16:17:44.789555</td>\n",
       "      <td>2018-02-02 01:19:41.756632</td>\n",
       "      <td>2018-02-02 01:19:41.756664</td>\n",
       "      <td>Elusive ‘Alien Of The Sea ‘ Caught By Scientis...</td>\n",
       "      <td>Alexander Smith</td>\n",
       "      <td>NaN</td>\n",
       "      <td>['']</td>\n",
       "      <td>NaN</td>\n",
       "      <td>NaN</td>\n",
       "      <td>NaN</td>\n",
       "    </tr>\n",
       "    <tr>\n",
       "      <th>4</th>\n",
       "      <td>791</td>\n",
       "      <td>bipartisanreport.com</td>\n",
       "      <td>clickbait</td>\n",
       "      <td>http://bipartisanreport.com/2018/01/21/trumps-...</td>\n",
       "      <td>Donald Trump has the unnerving ability to abil...</td>\n",
       "      <td>2018-01-25 16:17:44.789555</td>\n",
       "      <td>2018-02-02 01:19:41.756632</td>\n",
       "      <td>2018-02-02 01:19:41.756664</td>\n",
       "      <td>Trump’s Genius Poll Is Complete &amp; The Results ...</td>\n",
       "      <td>Gloria Christie</td>\n",
       "      <td>NaN</td>\n",
       "      <td>['']</td>\n",
       "      <td>NaN</td>\n",
       "      <td>NaN</td>\n",
       "      <td>NaN</td>\n",
       "    </tr>\n",
       "  </tbody>\n",
       "</table>\n",
       "</div>"
      ],
      "text/plain": [
       "    id                domain        type  \\\n",
       "0  141               awm.com  unreliable   \n",
       "1  256     beforeitsnews.com        fake   \n",
       "2  700           cnnnext.com  unreliable   \n",
       "3  768               awm.com  unreliable   \n",
       "4  791  bipartisanreport.com   clickbait   \n",
       "\n",
       "                                                 url  \\\n",
       "0  http://awm.com/church-congregation-brings-gift...   \n",
       "1  http://beforeitsnews.com/awakening-start-here/...   \n",
       "2  http://www.cnnnext.com/video/18526/never-hike-...   \n",
       "3  http://awm.com/elusive-alien-of-the-sea-caught...   \n",
       "4  http://bipartisanreport.com/2018/01/21/trumps-...   \n",
       "\n",
       "                                             content  \\\n",
       "0  Sometimes the power of Christmas will make you...   \n",
       "1  AWAKENING OF 12 STRANDS of DNA – “Reconnecting...   \n",
       "2  Never Hike Alone: A Friday the 13th Fan Film U...   \n",
       "3  When a rare shark was caught, scientists were ...   \n",
       "4  Donald Trump has the unnerving ability to abil...   \n",
       "\n",
       "                   scraped_at                 inserted_at  \\\n",
       "0  2018-01-25 16:17:44.789555  2018-02-02 01:19:41.756632   \n",
       "1  2018-01-25 16:17:44.789555  2018-02-02 01:19:41.756632   \n",
       "2  2018-01-25 16:17:44.789555  2018-02-02 01:19:41.756632   \n",
       "3  2018-01-25 16:17:44.789555  2018-02-02 01:19:41.756632   \n",
       "4  2018-01-25 16:17:44.789555  2018-02-02 01:19:41.756632   \n",
       "\n",
       "                   updated_at  \\\n",
       "0  2018-02-02 01:19:41.756664   \n",
       "1  2018-02-02 01:19:41.756664   \n",
       "2  2018-02-02 01:19:41.756664   \n",
       "3  2018-02-02 01:19:41.756664   \n",
       "4  2018-02-02 01:19:41.756664   \n",
       "\n",
       "                                               title          authors  \\\n",
       "0  Church Congregation Brings Gift to Waitresses ...      Ruth Harris   \n",
       "1  AWAKENING OF 12 STRANDS of DNA – “Reconnecting...     Zurich Times   \n",
       "2  Never Hike Alone - A Friday the 13th Fan Film ...              NaN   \n",
       "3  Elusive ‘Alien Of The Sea ‘ Caught By Scientis...  Alexander Smith   \n",
       "4  Trump’s Genius Poll Is Complete & The Results ...  Gloria Christie   \n",
       "\n",
       "   keywords meta_keywords                                   meta_description  \\\n",
       "0       NaN          ['']                                                NaN   \n",
       "1       NaN          ['']                                                NaN   \n",
       "2       NaN          ['']  Never Hike Alone: A Friday the 13th Fan Film  ...   \n",
       "3       NaN          ['']                                                NaN   \n",
       "4       NaN          ['']                                                NaN   \n",
       "\n",
       "  tags  summary  \n",
       "0  NaN      NaN  \n",
       "1  NaN      NaN  \n",
       "2  NaN      NaN  \n",
       "3  NaN      NaN  \n",
       "4  NaN      NaN  "
      ]
     },
     "execution_count": 74,
     "metadata": {},
     "output_type": "execute_result"
    }
   ],
   "source": [
    "import pandas as pd\n",
    "import regex as re\n",
    "from cleantext import clean\n",
    "raw_data = pd.read_csv('https://raw.githubusercontent.com/several27/FakeNewsCorpus/master/news_sample.csv', dtype={\"content\": \"string\"}, index_col=0)\n",
    "raw_data.head()"
   ]
  },
  {
   "attachments": {},
   "cell_type": "markdown",
   "metadata": {},
   "source": [
    "# Cleaning and preprocessing"
   ]
  },
  {
   "cell_type": "code",
   "execution_count": 135,
   "metadata": {},
   "outputs": [],
   "source": [
    "import pandas as pd\n",
    "import regex as re\n",
    "from cleantext import clean\n",
    "import pyarrow.feather as feather\n",
    "from multiprocessing import Pool\n",
    "import gc\n",
    "import nltk\n",
    "import itertools\n",
    "import numpy as np\n",
    "from nltk.corpus import stopwords\n",
    "from nltk.stem.porter import *\n",
    "import time"
   ]
  },
  {
   "cell_type": "markdown",
   "metadata": {},
   "source": [
    "Perform basic cleaning: remove urls, dates, numbers, emails."
   ]
  },
  {
   "cell_type": "code",
   "execution_count": 136,
   "metadata": {},
   "outputs": [],
   "source": [
    "data = raw_data.copy(deep = True)"
   ]
  },
  {
   "cell_type": "code",
   "execution_count": 137,
   "metadata": {},
   "outputs": [],
   "source": [
    "mail_pattern = re.compile(r\"(?P<Mails>[\\w\\.-]+@[\\w\\.-]+\\.[\\w]+)\")\n",
    "url_pattern = re.compile(r\"(?P<URL>(?:(?:https?|ftp):[/][/])?[\\w/\\-?=%.]+\\.[\\w/\\-&?=%.]+)\")\n",
    "date_pattern = re.compile(r\"([\\d]{1,2}[\\/|\\-][\\d]{1,2}(?:[\\/|\\-][\\d]{2,4})?|[\\d]{2,4}[\\/|\\-][\\d]{1,2}[\\/|\\-][\\d]{1,2}|(?:january|february|march|april|may|june|july|august|september|october|november|december)[\\s][\\d]{1,2}[a-z][a-z](?:\\s[\\d]{2,4})|[\\d][\\d]\\w?\\w?\\sof\\s(?:january|february|march|april|may|june|july|august|september|october|november|december)(?:\\s[\\d]{2,4})?|(?:january|february|march|april|may|june|july|august|september|october|november|december)\\s\\d\\d?\\w?\\w?,?(?:\\s\\d{2,4})?)\")\n",
    "num_pattern = re.compile(r\"\\d+\")\n",
    "white_space = re.compile(r\"[\\s]+|\\n+\")\n",
    "\n",
    "def clean_string(st):\n",
    "    s1 = st.lower()\n",
    "    s2 = mail_pattern.sub(\"mail\", s1)\n",
    "    s3 = url_pattern.sub(\"url\", s2)\n",
    "    s4 = date_pattern.sub(\"date\", s3)\n",
    "    s5 = num_pattern.sub(\"num\", s4)\n",
    "    s6 = white_space.sub(\" \", s5)\n",
    "    return s6\n",
    "\n",
    "def clean_dataframe(dataframe):\n",
    "    start = time.time()\n",
    "    dataframe['content'] = dataframe['content'].apply(clean_string)\n",
    "    end = time.time()\n",
    "    print(\"cleaning took \" + str(end - start) + \" seconds\")"
   ]
  },
  {
   "cell_type": "code",
   "execution_count": 138,
   "metadata": {},
   "outputs": [
    {
     "name": "stdout",
     "output_type": "stream",
     "text": [
      "cleaning took 5.609418630599976 seconds\n"
     ]
    },
    {
     "data": {
      "text/plain": [
       "0    sometimes the power of christmas will make you...\n",
       "1    awakening of num strands of dna – “reconnectin...\n",
       "2    never hike alone: a friday the numth fan film ...\n",
       "3    when a rare shark was caught, scientists were ...\n",
       "4    donald trump has the unnerving ability to abil...\n",
       "Name: content, dtype: object"
      ]
     },
     "execution_count": 138,
     "metadata": {},
     "output_type": "execute_result"
    }
   ],
   "source": [
    "clean_dataframe(data)\n",
    "data.content.head()"
   ]
  },
  {
   "attachments": {},
   "cell_type": "markdown",
   "metadata": {},
   "source": [
    "Tokenize the text\n",
    "Remove stopwords and compute reduction of vocabulary rate after having removed them\n",
    "Stem words and compute reduction rate of vocabulary"
   ]
  },
  {
   "cell_type": "code",
   "execution_count": 139,
   "metadata": {},
   "outputs": [],
   "source": [
    "def remove_english_stopwords(stopwords):\n",
    "    def remove_stopwords(tokenlist):\n",
    "        return filter(lambda x : x not in stopwords, tokenlist)\n",
    "    return remove_stopwords\n",
    "\n",
    "def stem_tokens():\n",
    "    stemmer = PorterStemmer()\n",
    "    def stem_tokenlist(tokenlist):\n",
    "        return map(stemmer.stem, tokenlist)\n",
    "    return stem_tokenlist\n",
    "\n",
    "def tokenize():\n",
    "    def tokenize_text(s):\n",
    "        return list((map(nltk.word_tokenize, s)))\n",
    "    return tokenize_text\n",
    "\n",
    "def to_list():\n",
    "    def turn_to_list(it):\n",
    "        return list(it)\n",
    "    return turn_to_list\n",
    "\n",
    "def preprocess(dataframe):\n",
    "    # tokenize content column\n",
    "    #print(\"Tokenizing...\")\n",
    "    start = time.time()\n",
    "    dataframe['content'] = dataframe['content'].apply(nltk.word_tokenize)\n",
    "    end = time.time()\n",
    "    print(\"tokenizing took \" + str(end - start) + \" seconds\")\n",
    "    #tokens = list(itertools.chain.from_iterable(dataframe['content']))\n",
    "    #vocabulary = set(tokens)\n",
    "    # remove stopwords\n",
    "    start = time.time()\n",
    "    dataframe['content'] = dataframe['content'].apply(remove_english_stopwords(stopwords.words('english')))\n",
    "    end = time.time()\n",
    "    print(\"removing stopwords took \" + str(end - start) + \" seconds\")\n",
    "    #tokens_no_stopwords = list(itertools.chain.from_iterable(dataframe['content']))\n",
    "    #vocabulary_no_stopwords = set(tokens_no_stopwords)\n",
    "    #print(\"Reduction rate of removing stopwords: \" + str(1 - len(vocabulary_no_stopwords) / len(vocabulary)))\n",
    "    # stem tokens\n",
    "    start = time.time()\n",
    "    dataframe['content'] = dataframe['content'].apply(stem_tokens())\n",
    "    end = time.time()\n",
    "    print(\"stemming took \" + str(end - start) + \" seconds\")\n",
    "\n",
    "    start = time.time()\n",
    "    dataframe['content'] = dataframe['content'].apply(to_list())\n",
    "    end = time.time()\n",
    "    print(\"converting to list took\" + str(end - start) + \" seconds\")\n",
    "\n",
    "    #tokens_stem = list(itertools.chain.from_iterable(dataframe['content']))\n",
    "    #print(\"Stemmed tokens = \" + str(tokens_stem))\n",
    "    #vocabulary_stem = set(tokens_stem)\n",
    "    #print(\"Reduction rate of stemming: \" + str(1 - len(vocabulary_stem)/len(vocabulary_no_stopwords)))"
   ]
  },
  {
   "cell_type": "code",
   "execution_count": 140,
   "metadata": {},
   "outputs": [
    {
     "name": "stdout",
     "output_type": "stream",
     "text": [
      "tokenizing took 2.248929977416992 seconds\n",
      "removing stopwords took 0.032022714614868164 seconds\n",
      "stemming took 0.0 seconds\n",
      "converting to list took3.2696664333343506 seconds\n"
     ]
    },
    {
     "data": {
      "text/plain": [
       "0      [sometim, power, christma, make, wild, wonder,...\n",
       "1      [awaken, num, strand, dna, –, “, reconnect, ”,...\n",
       "2      [never, hike, alon, :, friday, numth, fan, fil...\n",
       "3      [rare, shark, caught, ,, scientist, left, blun...\n",
       "4      [donald, trump, unnerv, abil, abil, creat, rea...\n",
       "                             ...                        \n",
       "245    [prison, rahm, ,, god, ’, work, mani, other, h...\n",
       "246    [num, use, item, tini, home, headlin, :, bitco...\n",
       "247    [former, cia, director, michael, hayden, said,...\n",
       "248    [antonio, sabato, jr., say, hollywood, 's, lib...\n",
       "249    [former, url, presid, bill, clinton, monday, c...\n",
       "Name: content, Length: 250, dtype: object"
      ]
     },
     "execution_count": 140,
     "metadata": {},
     "output_type": "execute_result"
    }
   ],
   "source": [
    "preprocess(data)\n",
    "data['content']"
   ]
  },
  {
   "attachments": {},
   "cell_type": "markdown",
   "metadata": {},
   "source": [
    "Next, we define functions that can visualize our dataset"
   ]
  },
  {
   "attachments": {},
   "cell_type": "markdown",
   "metadata": {},
   "source": [
    "# Visualization of data set"
   ]
  },
  {
   "cell_type": "code",
   "execution_count": null,
   "metadata": {},
   "outputs": [],
   "source": [
    "import numpy as np\n",
    "import matplotlib.pyplot as plt"
   ]
  },
  {
   "cell_type": "code",
   "execution_count": null,
   "metadata": {},
   "outputs": [],
   "source": [
    "def pair_keyword_type(keyword): \n",
    "    dataarray = []\n",
    "    for i in range(0,data.__len__()): \n",
    "        instances = data.content[i].count(str(keyword))\n",
    "        dataarray.append((instances,data.type[i]))\n",
    "    return dataarray"
   ]
  },
  {
   "cell_type": "code",
   "execution_count": null,
   "metadata": {},
   "outputs": [],
   "source": [
    "def scatterplot_keyword_type(keyword):\n",
    "    pair_keyword_list = pair_keyword_type(keyword)\n",
    "    tuple_array = pair_keyword_type(keyword)\n",
    "    typearray = []\n",
    "    countarray = []\n",
    "    for i in range(0,pair_keyword_list.__len__()): \n",
    "        typearray.append(str(tuple_array[i][1]))\n",
    "        countarray.append(tuple_array[i][0])\n",
    "    fig = plt.figure()\n",
    "    ax =fig.add_axes([0,0,2,1])\n",
    "    ax.scatter(typearray,countarray)\n",
    "    plt.xticks(rotation = 'vertical')\n",
    "    plt.show()"
   ]
  },
  {
   "cell_type": "code",
   "execution_count": null,
   "metadata": {},
   "outputs": [
    {
     "data": {
      "image/png": "[encoded data removed]",
      "text/plain": [
       "<Figure size 640x480 with 1 Axes>"
      ]
     },
     "metadata": {},
     "output_type": "display_data"
    }
   ],
   "source": [
    "scatterplot_keyword_type('num')"
   ]
  },
  {
   "cell_type": "code",
   "execution_count": null,
   "metadata": {},
   "outputs": [],
   "source": [
    "def boxplot_keyword_type(keyword):\n",
    "    tuple_array=pair_keyword_type(keyword) \n",
    "    boxdata=[]\n",
    "    dict = {}\n",
    "    for i in range(0,len(tuple_array)):\n",
    "        if tuple_array[i][1] not in dict:\n",
    "            dict[tuple_array[i][1]] = [tuple_array[i][0]]\n",
    "        else:\n",
    "            dict[tuple_array[i][1]].append(tuple_array[i][0])\n",
    "    for i in dict:\n",
    "        boxdata.append(dict[i])\n",
    "    fig = plt.figure()\n",
    "    ax =fig.add_axes([0,0,2,1])\n",
    "    ax.boxplot(boxdata, labels = list(dict.keys()))\n",
    "    plt.xticks(rotation = 'vertical')\n",
    "    plt.show()"
   ]
  },
  {
   "cell_type": "code",
   "execution_count": null,
   "metadata": {},
   "outputs": [
    {
     "data": {
      "image/png": "[encoded data removed]",
      "text/plain": [
       "<Figure size 640x480 with 1 Axes>"
      ]
     },
     "metadata": {},
     "output_type": "display_data"
    }
   ],
   "source": [
    "boxplot_keyword_type('trump')"
   ]
  },
  {
   "cell_type": "code",
   "execution_count": null,
   "metadata": {},
   "outputs": [],
   "source": [
    "def barplot_keyword_type(keyword): \n",
    "    tuple_array = pair_keyword_type(keyword)\n",
    "    rawdict = {}\n",
    "    for i in range(0,len(tuple_array)):\n",
    "        if tuple_array[i][1] not in rawdict:\n",
    "            rawdict[tuple_array[i][1]] = [tuple_array[i][0]]\n",
    "        else:\n",
    "            rawdict[tuple_array[i][1]].append(tuple_array[i][0])\n",
    "\n",
    "    meandict={}\n",
    "    for i in rawdict: \n",
    "        meandict[i] = np.mean(rawdict[i])\n",
    "    mediandict={}\n",
    "    for i in rawdict: \n",
    "        mediandict[i] = np.median(rawdict[i])\n",
    "    meanvals =[]\n",
    "    medianvals=[]\n",
    "    for i in mediandict:\n",
    "        medianvals.append(mediandict[i])\n",
    "    for i in meandict:\n",
    "        meanvals.append(meandict[i])\n",
    "    types = list(mediandict.keys())\n",
    "    types = [str(i) for i in types]\n",
    "    print(medianvals)\n",
    "    print(meanvals)\n",
    "    print(types)\n",
    "    df = pd.DataFrame({\n",
    "    'types': types,\n",
    "    'meanvals': meanvals,\n",
    "    'medianvals': medianvals\n",
    "    })\n",
    "    df.plot(x=\"types\", y=[\"meanvals\", \"medianvals\"], kind=\"bar\", figsize=(10,5))\n",
    "    "
   ]
  },
  {
   "cell_type": "code",
   "execution_count": null,
   "metadata": {},
   "outputs": [
    {
     "name": "stdout",
     "output_type": "stream",
     "text": [
      "[2.5, 3.0, 9.0, 4.0, 1.0, 1.5, 0.0, 2.5, 3.0, 3.0, 9.0]\n",
      "[5.333333333333333, 8.116129032258064, 9.0, 9.96774193548387, 5.0, 6.0, 0.0, 3.3333333333333335, 5.608695652173913, 4.333333333333333, 13.5]\n",
      "['unreliable', 'fake', 'clickbait', 'conspiracy', 'reliable', 'bias', 'hate', 'junksci', 'political', 'nan', 'unknown']\n"
     ]
    },
    {
     "data": {
      "image/png": "[encoded data removed]",
      "text/plain": [
       "<Figure size 1000x500 with 1 Axes>"
      ]
     },
     "metadata": {},
     "output_type": "display_data"
    }
   ],
   "source": [
    "barplot_keyword_type('num') "
   ]
  },
  {
   "attachments": {},
   "cell_type": "markdown",
   "metadata": {},
   "source": [
    "# Get subset of full dataset"
   ]
  },
  {
   "attachments": {},
   "cell_type": "markdown",
   "metadata": {},
   "source": [
    "First we import the necessary libraries"
   ]
  },
  {
   "cell_type": "code",
   "execution_count": null,
   "metadata": {},
   "outputs": [],
   "source": [
    "import csv\n",
    "import pandas as pd\n",
    "import random\n",
    "import pyarrow.feather as feather\n",
    "import regex as re\n",
    "from cleantext import clean\n",
    "import pyarrow.feather as feather\n",
    "from multiprocessing import Pool\n",
    "import gc\n",
    "import nltk\n",
    "import itertools\n",
    "import numpy as np\n",
    "from nltk.corpus import stopwords\n",
    "from nltk.stem.porter import *\n",
    "import time"
   ]
  },
  {
   "attachments": {},
   "cell_type": "markdown",
   "metadata": {},
   "source": [
    "We load the full data set"
   ]
  },
  {
   "cell_type": "code",
   "execution_count": null,
   "metadata": {},
   "outputs": [
    {
     "name": "stderr",
     "output_type": "stream",
     "text": [
      "C:\\Users\\hulig\\AppData\\Local\\Temp\\ipykernel_21004\\3260015146.py:1: DtypeWarning: Columns (0,1,2,3,4,5,6,7,8,9,10,11,12,13,14,15,16) have mixed types. Specify dtype option on import or set low_memory=False.\n",
      "  full_data = pd.read_csv(\"data/news_cleaned_2018_02_13-1.csv\", on_bad_lines='skip')\n"
     ]
    }
   ],
   "source": [
    "full_data = pd.read_csv(\"data/news_cleaned_2018_02_13-1.csv\", on_bad_lines='skip', index_col=0)"
   ]
  },
  {
   "cell_type": "code",
   "execution_count": null,
   "metadata": {},
   "outputs": [
    {
     "data": {
      "text/plain": [
       "11558723"
      ]
     },
     "execution_count": 19,
     "metadata": {},
     "output_type": "execute_result"
    }
   ],
   "source": [
    "len(full_data)"
   ]
  },
  {
   "attachments": {},
   "cell_type": "markdown",
   "metadata": {},
   "source": [
    "We get a sample consisting of 10% of the full dataset"
   ]
  },
  {
   "cell_type": "code",
   "execution_count": null,
   "metadata": {},
   "outputs": [],
   "source": [
    "full_data_sample = full_data.sample(frac=0.1, random_state=1)"
   ]
  },
  {
   "cell_type": "code",
   "execution_count": null,
   "metadata": {},
   "outputs": [
    {
     "data": {
      "text/html": [
       "<div>\n",
       "<style scoped>\n",
       "    .dataframe tbody tr th:only-of-type {\n",
       "        vertical-align: middle;\n",
       "    }\n",
       "\n",
       "    .dataframe tbody tr th {\n",
       "        vertical-align: top;\n",
       "    }\n",
       "\n",
       "    .dataframe thead th {\n",
       "        text-align: right;\n",
       "    }\n",
       "</style>\n",
       "<table border=\"1\" class=\"dataframe\">\n",
       "  <thead>\n",
       "    <tr style=\"text-align: right;\">\n",
       "      <th></th>\n",
       "      <th>Unnamed: 0</th>\n",
       "      <th>id</th>\n",
       "      <th>domain</th>\n",
       "      <th>type</th>\n",
       "      <th>url</th>\n",
       "      <th>content</th>\n",
       "      <th>scraped_at</th>\n",
       "      <th>inserted_at</th>\n",
       "      <th>updated_at</th>\n",
       "      <th>title</th>\n",
       "      <th>authors</th>\n",
       "      <th>keywords</th>\n",
       "      <th>meta_keywords</th>\n",
       "      <th>meta_description</th>\n",
       "      <th>tags</th>\n",
       "      <th>summary</th>\n",
       "      <th>source</th>\n",
       "    </tr>\n",
       "  </thead>\n",
       "  <tbody>\n",
       "    <tr>\n",
       "      <th>11467794</th>\n",
       "      <td>8027</td>\n",
       "      <td>9787368</td>\n",
       "      <td>nytimes.com</td>\n",
       "      <td>reliable</td>\n",
       "      <td>https://query.nytimes.com/gst/fullpage.html?re...</td>\n",
       "      <td>KASHA--Audrey Sission, a lifelong New Yorker, ...</td>\n",
       "      <td>2018-02-11 00:48:58.787555</td>\n",
       "      <td>2018-02-11 00:14:20.346838</td>\n",
       "      <td>2018-02-11 00:14:20.346871</td>\n",
       "      <td>Paid Notice: Deaths  KASHA, AUDREY SISSION</td>\n",
       "      <td>NaN</td>\n",
       "      <td>NaN</td>\n",
       "      <td>['KASHA  AUDREY SISSION']</td>\n",
       "      <td>KASHA--Audrey Sission, a lifelong New Yorker, ...</td>\n",
       "      <td>NaN</td>\n",
       "      <td>NaN</td>\n",
       "      <td>nytimes</td>\n",
       "    </tr>\n",
       "    <tr>\n",
       "      <th>4591569</th>\n",
       "      <td>8760</td>\n",
       "      <td>3009581</td>\n",
       "      <td>thinkprogress.org</td>\n",
       "      <td>political</td>\n",
       "      <td>https://thinkprogress.org/into-the-valley-of-d...</td>\n",
       "      <td>“Forward, the Light Brigade!”Was there a man d...</td>\n",
       "      <td>2017-11-18T20:01:27.400599</td>\n",
       "      <td>2018-02-07 23:39:33.852671</td>\n",
       "      <td>2018-02-07 23:39:33.852696</td>\n",
       "      <td>Into The Valley Of Death Rode The 600, Into Th...</td>\n",
       "      <td>NaN</td>\n",
       "      <td>NaN</td>\n",
       "      <td>['']</td>\n",
       "      <td>NaN</td>\n",
       "      <td>#Climate Change, #Climate</td>\n",
       "      <td>NaN</td>\n",
       "      <td>NaN</td>\n",
       "    </tr>\n",
       "    <tr>\n",
       "      <th>6162754</th>\n",
       "      <td>2521</td>\n",
       "      <td>4251195</td>\n",
       "      <td>truthandaction.org</td>\n",
       "      <td>bias</td>\n",
       "      <td>http://www.truthandaction.org/woman-thrown-off...</td>\n",
       "      <td>Woman Thrown Off Plane When She Said Hillary i...</td>\n",
       "      <td>2017-11-27T01:15:32.269834</td>\n",
       "      <td>2018-02-07 23:39:33.852671</td>\n",
       "      <td>2018-02-07 23:39:33.852696</td>\n",
       "      <td>Woman Thrown Off Plane When She Said Hillary i...</td>\n",
       "      <td>NaN</td>\n",
       "      <td>NaN</td>\n",
       "      <td>['']</td>\n",
       "      <td>NaN</td>\n",
       "      <td>NaN</td>\n",
       "      <td>NaN</td>\n",
       "      <td>NaN</td>\n",
       "    </tr>\n",
       "    <tr>\n",
       "      <th>4250359</th>\n",
       "      <td>effort to turn this election into a referendu...</td>\n",
       "      <td>NaN</td>\n",
       "      <td>NaN</td>\n",
       "      <td>NaN</td>\n",
       "      <td>NaN</td>\n",
       "      <td>NaN</td>\n",
       "      <td>NaN</td>\n",
       "      <td>NaN</td>\n",
       "      <td>NaN</td>\n",
       "      <td>NaN</td>\n",
       "      <td>NaN</td>\n",
       "      <td>NaN</td>\n",
       "      <td>NaN</td>\n",
       "      <td>NaN</td>\n",
       "      <td>NaN</td>\n",
       "      <td>NaN</td>\n",
       "      <td>NaN</td>\n",
       "    </tr>\n",
       "    <tr>\n",
       "      <th>4742331</th>\n",
       "      <td>NaN</td>\n",
       "      <td>NaN</td>\n",
       "      <td>NaN</td>\n",
       "      <td>NaN</td>\n",
       "      <td>NaN</td>\n",
       "      <td>NaN</td>\n",
       "      <td>NaN</td>\n",
       "      <td>NaN</td>\n",
       "      <td>NaN</td>\n",
       "      <td>NaN</td>\n",
       "      <td>NaN</td>\n",
       "      <td>NaN</td>\n",
       "      <td>NaN</td>\n",
       "      <td>NaN</td>\n",
       "      <td>NaN</td>\n",
       "      <td>NaN</td>\n",
       "      <td>NaN</td>\n",
       "    </tr>\n",
       "  </tbody>\n",
       "</table>\n",
       "</div>"
      ],
      "text/plain": [
       "                                                 Unnamed: 0       id  \\\n",
       "11467794                                               8027  9787368   \n",
       "4591569                                                8760  3009581   \n",
       "6162754                                                2521  4251195   \n",
       "4250359    effort to turn this election into a referendu...      NaN   \n",
       "4742331                                                 NaN      NaN   \n",
       "\n",
       "                      domain       type  \\\n",
       "11467794         nytimes.com   reliable   \n",
       "4591569    thinkprogress.org  political   \n",
       "6162754   truthandaction.org       bias   \n",
       "4250359                  NaN        NaN   \n",
       "4742331                  NaN        NaN   \n",
       "\n",
       "                                                        url  \\\n",
       "11467794  https://query.nytimes.com/gst/fullpage.html?re...   \n",
       "4591569   https://thinkprogress.org/into-the-valley-of-d...   \n",
       "6162754   http://www.truthandaction.org/woman-thrown-off...   \n",
       "4250359                                                 NaN   \n",
       "4742331                                                 NaN   \n",
       "\n",
       "                                                    content  \\\n",
       "11467794  KASHA--Audrey Sission, a lifelong New Yorker, ...   \n",
       "4591569   “Forward, the Light Brigade!”Was there a man d...   \n",
       "6162754   Woman Thrown Off Plane When She Said Hillary i...   \n",
       "4250359                                                 NaN   \n",
       "4742331                                                 NaN   \n",
       "\n",
       "                          scraped_at                 inserted_at  \\\n",
       "11467794  2018-02-11 00:48:58.787555  2018-02-11 00:14:20.346838   \n",
       "4591569   2017-11-18T20:01:27.400599  2018-02-07 23:39:33.852671   \n",
       "6162754   2017-11-27T01:15:32.269834  2018-02-07 23:39:33.852671   \n",
       "4250359                          NaN                         NaN   \n",
       "4742331                          NaN                         NaN   \n",
       "\n",
       "                          updated_at  \\\n",
       "11467794  2018-02-11 00:14:20.346871   \n",
       "4591569   2018-02-07 23:39:33.852696   \n",
       "6162754   2018-02-07 23:39:33.852696   \n",
       "4250359                          NaN   \n",
       "4742331                          NaN   \n",
       "\n",
       "                                                      title authors keywords  \\\n",
       "11467794         Paid Notice: Deaths  KASHA, AUDREY SISSION     NaN      NaN   \n",
       "4591569   Into The Valley Of Death Rode The 600, Into Th...     NaN      NaN   \n",
       "6162754   Woman Thrown Off Plane When She Said Hillary i...     NaN      NaN   \n",
       "4250359                                                 NaN     NaN      NaN   \n",
       "4742331                                                 NaN     NaN      NaN   \n",
       "\n",
       "                      meta_keywords  \\\n",
       "11467794  ['KASHA  AUDREY SISSION']   \n",
       "4591569                        ['']   \n",
       "6162754                        ['']   \n",
       "4250359                         NaN   \n",
       "4742331                         NaN   \n",
       "\n",
       "                                           meta_description  \\\n",
       "11467794  KASHA--Audrey Sission, a lifelong New Yorker, ...   \n",
       "4591569                                                 NaN   \n",
       "6162754                                                 NaN   \n",
       "4250359                                                 NaN   \n",
       "4742331                                                 NaN   \n",
       "\n",
       "                               tags summary   source  \n",
       "11467794                        NaN     NaN  nytimes  \n",
       "4591569   #Climate Change, #Climate     NaN      NaN  \n",
       "6162754                         NaN     NaN      NaN  \n",
       "4250359                         NaN     NaN      NaN  \n",
       "4742331                         NaN     NaN      NaN  "
      ]
     },
     "execution_count": 21,
     "metadata": {},
     "output_type": "execute_result"
    }
   ],
   "source": [
    "full_data_sample.head()"
   ]
  },
  {
   "cell_type": "code",
   "execution_count": null,
   "metadata": {},
   "outputs": [
    {
     "data": {
      "text/plain": [
       "1155872"
      ]
     },
     "execution_count": 22,
     "metadata": {},
     "output_type": "execute_result"
    }
   ],
   "source": [
    "len(full_data_sample)"
   ]
  },
  {
   "attachments": {},
   "cell_type": "markdown",
   "metadata": {},
   "source": [
    "Next, we make sure to delete the full data set from memory such that we can save our sample"
   ]
  },
  {
   "cell_type": "code",
   "execution_count": null,
   "metadata": {},
   "outputs": [],
   "source": [
    "import gc"
   ]
  },
  {
   "cell_type": "code",
   "execution_count": null,
   "metadata": {},
   "outputs": [
    {
     "data": {
      "text/plain": [
       "18300"
      ]
     },
     "execution_count": 24,
     "metadata": {},
     "output_type": "execute_result"
    }
   ],
   "source": [
    "del full_data\n",
    "gc.collect()"
   ]
  },
  {
   "attachments": {},
   "cell_type": "markdown",
   "metadata": {},
   "source": [
    "Then, we save the sample to csv format"
   ]
  },
  {
   "cell_type": "code",
   "execution_count": null,
   "metadata": {},
   "outputs": [],
   "source": [
    "full_data_sample.to_csv(\"data/sample.csv\")"
   ]
  },
  {
   "attachments": {},
   "cell_type": "markdown",
   "metadata": {},
   "source": [
    "We see that there is a lot of rows where the \"content\" tab is null, so we delete those"
   ]
  },
  {
   "attachments": {},
   "cell_type": "markdown",
   "metadata": {},
   "source": [
    "CODE HERRE TO SHOW THE ABOVE"
   ]
  },
  {
   "cell_type": "code",
   "execution_count": null,
   "metadata": {},
   "outputs": [],
   "source": [
    "full_data_sample_clean_content = full_data_sample.drop(full_data_sample[full_data_sample.content.isnull()].index)"
   ]
  },
  {
   "cell_type": "code",
   "execution_count": null,
   "metadata": {},
   "outputs": [
    {
     "name": "stdout",
     "output_type": "stream",
     "text": [
      "Removed 210005 rows\n"
     ]
    }
   ],
   "source": [
    "print(\"Removed \" + str(len(full_data_sample) - len(full_data_sample_clean_content)) + \" rows\")"
   ]
  },
  {
   "cell_type": "code",
   "execution_count": null,
   "metadata": {},
   "outputs": [
    {
     "data": {
      "text/plain": [
       "945867"
      ]
     },
     "execution_count": 28,
     "metadata": {},
     "output_type": "execute_result"
    }
   ],
   "source": [
    "len(full_data_sample_clean_content)"
   ]
  },
  {
   "attachments": {},
   "cell_type": "markdown",
   "metadata": {},
   "source": [
    "In order to save to a binary format like feather we first need to make sure that each row has the same data types in each column"
   ]
  },
  {
   "cell_type": "code",
   "execution_count": null,
   "metadata": {},
   "outputs": [],
   "source": [
    "full_data_sample_clean_content = full_data_sample_clean_content[pd.to_numeric(full_data_sample_clean_content['Unnamed: 0'], errors='coerce').notnull()]"
   ]
  },
  {
   "cell_type": "code",
   "execution_count": null,
   "metadata": {},
   "outputs": [],
   "source": [
    "full_data_sample_clean_content['Unnamed: 0'] = full_data_sample_clean_content['Unnamed: 0'].astype('int64')"
   ]
  },
  {
   "cell_type": "code",
   "execution_count": null,
   "metadata": {},
   "outputs": [],
   "source": [
    "full_data_sample_clean_content['id'] = full_data_sample_clean_content['id'].astype('int64')"
   ]
  },
  {
   "cell_type": "code",
   "execution_count": null,
   "metadata": {},
   "outputs": [
    {
     "data": {
      "text/plain": [
       "Unnamed: 0           int64\n",
       "id                   int64\n",
       "domain              object\n",
       "type                object\n",
       "url                 object\n",
       "content             object\n",
       "scraped_at          object\n",
       "inserted_at         object\n",
       "updated_at          object\n",
       "title               object\n",
       "authors             object\n",
       "keywords            object\n",
       "meta_keywords       object\n",
       "meta_description    object\n",
       "tags                object\n",
       "summary             object\n",
       "source              object\n",
       "dtype: object"
      ]
     },
     "execution_count": 42,
     "metadata": {},
     "output_type": "execute_result"
    }
   ],
   "source": [
    "full_data_sample_clean_content.dtypes"
   ]
  },
  {
   "attachments": {},
   "cell_type": "markdown",
   "metadata": {},
   "source": [
    "Then, we write the sample to binary format for faster loading times"
   ]
  },
  {
   "cell_type": "code",
   "execution_count": null,
   "metadata": {},
   "outputs": [],
   "source": [
    "import pyarrow.parquet as pq\n",
    "import pyarrow as pa"
   ]
  },
  {
   "cell_type": "code",
   "execution_count": null,
   "metadata": {},
   "outputs": [],
   "source": [
    "full_data_sample_clean_content.to_csv(\"data/sample_STRUCTURED.csv\")"
   ]
  },
  {
   "cell_type": "code",
   "execution_count": null,
   "metadata": {},
   "outputs": [],
   "source": [
    "##pq.write_table(full_data_sample_clean_content, \"data/sample_STRUCTURED.parquet\")"
   ]
  },
  {
   "cell_type": "code",
   "execution_count": null,
   "metadata": {},
   "outputs": [],
   "source": [
    "#sample_parquet = pa.Table.from_pandas(\"data/sample_STRUCTURED.parquet\")"
   ]
  },
  {
   "cell_type": "code",
   "execution_count": null,
   "metadata": {},
   "outputs": [],
   "source": [
    "#sample_parquet.to_csv(\"data/sample_STRUCTURED.csv\")"
   ]
  },
  {
   "attachments": {},
   "cell_type": "markdown",
   "metadata": {},
   "source": [
    "# Preprocessing the larger sample"
   ]
  },
  {
   "attachments": {},
   "cell_type": "markdown",
   "metadata": {},
   "source": [
    "Then, we preprocess the larger sample"
   ]
  },
  {
   "cell_type": "code",
   "execution_count": null,
   "metadata": {},
   "outputs": [],
   "source": [
    "file_name = \"data/sample_preprocessed.csv\"\n",
    "with open(file_name, \"w\") as file:\n",
    "    pass"
   ]
  },
  {
   "cell_type": "code",
   "execution_count": null,
   "metadata": {},
   "outputs": [
    {
     "name": "stdout",
     "output_type": "stream",
     "text": [
      "cleaning took 301.80913186073303 seconds\n",
      "tokenizing took 16.422672748565674 seconds\n",
      "removing stopwords took 0.23056626319885254 seconds\n",
      "stemming took 0.2047100067138672 seconds\n",
      "converting to list took45.444029808044434 seconds\n",
      "writing to csv took 4.525438070297241 seconds\n"
     ]
    },
    {
     "ename": "KeyboardInterrupt",
     "evalue": "",
     "output_type": "error",
     "traceback": [
      "\u001b[1;31m---------------------------------------------------------------------------\u001b[0m",
      "\u001b[1;31mKeyboardInterrupt\u001b[0m                         Traceback (most recent call last)",
      "Cell \u001b[1;32mIn[35], line 2\u001b[0m\n\u001b[0;32m      1\u001b[0m \u001b[39mfor\u001b[39;00m chunck \u001b[39min\u001b[39;00m pd\u001b[39m.\u001b[39mread_csv(\u001b[39m\"\u001b[39m\u001b[39mdata/sample_STRUCTURED.csv\u001b[39m\u001b[39m\"\u001b[39m, chunksize\u001b[39m=\u001b[39m\u001b[39m10000\u001b[39m):\n\u001b[1;32m----> 2\u001b[0m     clean_dataframe(chunck)\n\u001b[0;32m      3\u001b[0m     preprocess(chunck)\n\u001b[0;32m      4\u001b[0m     start \u001b[39m=\u001b[39m time\u001b[39m.\u001b[39mtime()\n",
      "Cell \u001b[1;32mIn[5], line 16\u001b[0m, in \u001b[0;36mclean_dataframe\u001b[1;34m(dataframe)\u001b[0m\n\u001b[0;32m     14\u001b[0m \u001b[39mdef\u001b[39;00m \u001b[39mclean_dataframe\u001b[39m(dataframe):\n\u001b[0;32m     15\u001b[0m     start \u001b[39m=\u001b[39m time\u001b[39m.\u001b[39mtime()\n\u001b[1;32m---> 16\u001b[0m     dataframe[\u001b[39m'\u001b[39m\u001b[39mcontent\u001b[39m\u001b[39m'\u001b[39m] \u001b[39m=\u001b[39m dataframe[\u001b[39m'\u001b[39;49m\u001b[39mcontent\u001b[39;49m\u001b[39m'\u001b[39;49m]\u001b[39m.\u001b[39;49mapply(clean_string)\n\u001b[0;32m     17\u001b[0m     end \u001b[39m=\u001b[39m time\u001b[39m.\u001b[39mtime()\n\u001b[0;32m     18\u001b[0m     \u001b[39mprint\u001b[39m(\u001b[39m\"\u001b[39m\u001b[39mcleaning took \u001b[39m\u001b[39m\"\u001b[39m \u001b[39m+\u001b[39m \u001b[39mstr\u001b[39m(end \u001b[39m-\u001b[39m start) \u001b[39m+\u001b[39m \u001b[39m\"\u001b[39m\u001b[39m seconds\u001b[39m\u001b[39m\"\u001b[39m)\n",
      "File \u001b[1;32mc:\\Users\\hulig\\miniconda3\\envs\\fn\\lib\\site-packages\\pandas\\core\\series.py:4771\u001b[0m, in \u001b[0;36mSeries.apply\u001b[1;34m(self, func, convert_dtype, args, **kwargs)\u001b[0m\n\u001b[0;32m   4661\u001b[0m \u001b[39mdef\u001b[39;00m \u001b[39mapply\u001b[39m(\n\u001b[0;32m   4662\u001b[0m     \u001b[39mself\u001b[39m,\n\u001b[0;32m   4663\u001b[0m     func: AggFuncType,\n\u001b[1;32m   (...)\u001b[0m\n\u001b[0;32m   4666\u001b[0m     \u001b[39m*\u001b[39m\u001b[39m*\u001b[39mkwargs,\n\u001b[0;32m   4667\u001b[0m ) \u001b[39m-\u001b[39m\u001b[39m>\u001b[39m DataFrame \u001b[39m|\u001b[39m Series:\n\u001b[0;32m   4668\u001b[0m \u001b[39m    \u001b[39m\u001b[39m\"\"\"\u001b[39;00m\n\u001b[0;32m   4669\u001b[0m \u001b[39m    Invoke function on values of Series.\u001b[39;00m\n\u001b[0;32m   4670\u001b[0m \n\u001b[1;32m   (...)\u001b[0m\n\u001b[0;32m   4769\u001b[0m \u001b[39m    dtype: float64\u001b[39;00m\n\u001b[0;32m   4770\u001b[0m \u001b[39m    \"\"\"\u001b[39;00m\n\u001b[1;32m-> 4771\u001b[0m     \u001b[39mreturn\u001b[39;00m SeriesApply(\u001b[39mself\u001b[39;49m, func, convert_dtype, args, kwargs)\u001b[39m.\u001b[39;49mapply()\n",
      "File \u001b[1;32mc:\\Users\\hulig\\miniconda3\\envs\\fn\\lib\\site-packages\\pandas\\core\\apply.py:1123\u001b[0m, in \u001b[0;36mSeriesApply.apply\u001b[1;34m(self)\u001b[0m\n\u001b[0;32m   1120\u001b[0m     \u001b[39mreturn\u001b[39;00m \u001b[39mself\u001b[39m\u001b[39m.\u001b[39mapply_str()\n\u001b[0;32m   1122\u001b[0m \u001b[39m# self.f is Callable\u001b[39;00m\n\u001b[1;32m-> 1123\u001b[0m \u001b[39mreturn\u001b[39;00m \u001b[39mself\u001b[39;49m\u001b[39m.\u001b[39;49mapply_standard()\n",
      "File \u001b[1;32mc:\\Users\\hulig\\miniconda3\\envs\\fn\\lib\\site-packages\\pandas\\core\\apply.py:1174\u001b[0m, in \u001b[0;36mSeriesApply.apply_standard\u001b[1;34m(self)\u001b[0m\n\u001b[0;32m   1172\u001b[0m     \u001b[39melse\u001b[39;00m:\n\u001b[0;32m   1173\u001b[0m         values \u001b[39m=\u001b[39m obj\u001b[39m.\u001b[39mastype(\u001b[39mobject\u001b[39m)\u001b[39m.\u001b[39m_values\n\u001b[1;32m-> 1174\u001b[0m         mapped \u001b[39m=\u001b[39m lib\u001b[39m.\u001b[39;49mmap_infer(\n\u001b[0;32m   1175\u001b[0m             values,\n\u001b[0;32m   1176\u001b[0m             f,\n\u001b[0;32m   1177\u001b[0m             convert\u001b[39m=\u001b[39;49m\u001b[39mself\u001b[39;49m\u001b[39m.\u001b[39;49mconvert_dtype,\n\u001b[0;32m   1178\u001b[0m         )\n\u001b[0;32m   1180\u001b[0m \u001b[39mif\u001b[39;00m \u001b[39mlen\u001b[39m(mapped) \u001b[39mand\u001b[39;00m \u001b[39misinstance\u001b[39m(mapped[\u001b[39m0\u001b[39m], ABCSeries):\n\u001b[0;32m   1181\u001b[0m     \u001b[39m# GH#43986 Need to do list(mapped) in order to get treated as nested\u001b[39;00m\n\u001b[0;32m   1182\u001b[0m     \u001b[39m#  See also GH#25959 regarding EA support\u001b[39;00m\n\u001b[0;32m   1183\u001b[0m     \u001b[39mreturn\u001b[39;00m obj\u001b[39m.\u001b[39m_constructor_expanddim(\u001b[39mlist\u001b[39m(mapped), index\u001b[39m=\u001b[39mobj\u001b[39m.\u001b[39mindex)\n",
      "File \u001b[1;32mc:\\Users\\hulig\\miniconda3\\envs\\fn\\lib\\site-packages\\pandas\\_libs\\lib.pyx:2924\u001b[0m, in \u001b[0;36mpandas._libs.lib.map_infer\u001b[1;34m()\u001b[0m\n",
      "Cell \u001b[1;32mIn[5], line 4\u001b[0m, in \u001b[0;36mclean_string\u001b[1;34m(st)\u001b[0m\n\u001b[0;32m      2\u001b[0m \u001b[39mdef\u001b[39;00m \u001b[39mclean_string\u001b[39m(st):\n\u001b[0;32m      3\u001b[0m     s1 \u001b[39m=\u001b[39m pattern\u001b[39m.\u001b[39msub(\u001b[39m\"\u001b[39m\u001b[39mdate\u001b[39m\u001b[39m\"\u001b[39m,st)\n\u001b[1;32m----> 4\u001b[0m     \u001b[39mreturn\u001b[39;00m clean(s1, lower\u001b[39m=\u001b[39;49m\u001b[39mTrue\u001b[39;49;00m,\n\u001b[0;32m      5\u001b[0m                     no_line_breaks\u001b[39m=\u001b[39;49m\u001b[39mTrue\u001b[39;49;00m,\n\u001b[0;32m      6\u001b[0m                     no_emails\u001b[39m=\u001b[39;49m\u001b[39mTrue\u001b[39;49;00m,\n\u001b[0;32m      7\u001b[0m                     no_urls\u001b[39m=\u001b[39;49m\u001b[39mTrue\u001b[39;49;00m,\n\u001b[0;32m      8\u001b[0m                     no_numbers\u001b[39m=\u001b[39;49m\u001b[39mTrue\u001b[39;49;00m,\n\u001b[0;32m      9\u001b[0m                     no_punct\u001b[39m=\u001b[39;49m\u001b[39mTrue\u001b[39;49;00m,\n\u001b[0;32m     10\u001b[0m                     lang\u001b[39m=\u001b[39;49m\u001b[39m\"\u001b[39;49m\u001b[39men\u001b[39;49m\u001b[39m\"\u001b[39;49m,\n\u001b[0;32m     11\u001b[0m                     replace_with_number\u001b[39m=\u001b[39;49m\u001b[39m\"\u001b[39;49m\u001b[39mnum\u001b[39;49m\u001b[39m\"\u001b[39;49m,\n\u001b[0;32m     12\u001b[0m                     replace_with_email\u001b[39m=\u001b[39;49m\u001b[39m\"\u001b[39;49m\u001b[39memail\u001b[39;49m\u001b[39m\"\u001b[39;49m,\n\u001b[0;32m     13\u001b[0m                     replace_with_url\u001b[39m=\u001b[39;49m\u001b[39m\"\u001b[39;49m\u001b[39murl\u001b[39;49m\u001b[39m\"\u001b[39;49m)\n",
      "File \u001b[1;32mc:\\Users\\hulig\\miniconda3\\envs\\fn\\lib\\site-packages\\cleantext\\clean.py:272\u001b[0m, in \u001b[0;36mclean\u001b[1;34m(text, fix_unicode, to_ascii, lower, normalize_whitespace, no_line_breaks, strip_lines, keep_two_line_breaks, no_urls, no_emails, no_phone_numbers, no_numbers, no_digits, no_currency_symbols, no_punct, no_emoji, replace_with_url, replace_with_email, replace_with_phone_number, replace_with_number, replace_with_digit, replace_with_currency_symbol, replace_with_punct, lang)\u001b[0m\n\u001b[0;32m    270\u001b[0m     text \u001b[39m=\u001b[39m replace_currency_symbols(text, replace_with_currency_symbol)\n\u001b[0;32m    271\u001b[0m \u001b[39mif\u001b[39;00m to_ascii:\n\u001b[1;32m--> 272\u001b[0m     text \u001b[39m=\u001b[39m to_ascii_unicode(text, lang\u001b[39m=\u001b[39;49mlang, no_emoji\u001b[39m=\u001b[39;49mno_emoji)\n\u001b[0;32m    273\u001b[0m \u001b[39mif\u001b[39;00m no_urls:\n\u001b[0;32m    274\u001b[0m     text \u001b[39m=\u001b[39m replace_urls(text, replace_with_url)\n",
      "File \u001b[1;32mc:\\Users\\hulig\\miniconda3\\envs\\fn\\lib\\site-packages\\cleantext\\clean.py:84\u001b[0m, in \u001b[0;36mto_ascii_unicode\u001b[1;34m(text, lang, no_emoji)\u001b[0m\n\u001b[0;32m     81\u001b[0m \u001b[39mif\u001b[39;00m lang \u001b[39m==\u001b[39m \u001b[39m\"\u001b[39m\u001b[39mde\u001b[39m\u001b[39m\"\u001b[39m:\n\u001b[0;32m     82\u001b[0m     text \u001b[39m=\u001b[39m save_replace(text, lang\u001b[39m=\u001b[39mlang)\n\u001b[1;32m---> 84\u001b[0m text \u001b[39m=\u001b[39m unidecode(text)\n\u001b[0;32m     86\u001b[0m \u001b[39m# important to remove utility characters\u001b[39;00m\n\u001b[0;32m     87\u001b[0m \u001b[39mif\u001b[39;00m lang \u001b[39m==\u001b[39m \u001b[39m\"\u001b[39m\u001b[39mde\u001b[39m\u001b[39m\"\u001b[39m:\n",
      "File \u001b[1;32mc:\\Users\\hulig\\miniconda3\\envs\\fn\\lib\\site-packages\\unidecode\\__init__.py:66\u001b[0m, in \u001b[0;36munidecode_expect_ascii\u001b[1;34m(string, errors, replace_str)\u001b[0m\n\u001b[0;32m     63\u001b[0m \u001b[39melse\u001b[39;00m:\n\u001b[0;32m     64\u001b[0m     \u001b[39mreturn\u001b[39;00m string\n\u001b[1;32m---> 66\u001b[0m \u001b[39mreturn\u001b[39;00m _unidecode(string, errors, replace_str)\n",
      "File \u001b[1;32mc:\\Users\\hulig\\miniconda3\\envs\\fn\\lib\\site-packages\\unidecode\\__init__.py:136\u001b[0m, in \u001b[0;36m_unidecode\u001b[1;34m(string, errors, replace_str)\u001b[0m\n\u001b[0;32m    133\u001b[0m         \u001b[39melse\u001b[39;00m:\n\u001b[0;32m    134\u001b[0m             \u001b[39mraise\u001b[39;00m UnidecodeError(\u001b[39m'\u001b[39m\u001b[39minvalid value for errors parameter \u001b[39m\u001b[39m%r\u001b[39;00m\u001b[39m'\u001b[39m \u001b[39m%\u001b[39m (errors,))\n\u001b[1;32m--> 136\u001b[0m     retval\u001b[39m.\u001b[39mappend(repl)\n\u001b[0;32m    138\u001b[0m \u001b[39mreturn\u001b[39;00m \u001b[39m'\u001b[39m\u001b[39m'\u001b[39m\u001b[39m.\u001b[39mjoin(retval)\n",
      "\u001b[1;31mKeyboardInterrupt\u001b[0m: "
     ]
    }
   ],
   "source": [
    "for chunck in pd.read_csv(\"data/sample_STRUCTURED.csv\", chunksize=10000):\n",
    "    clean_dataframe(chunck)\n",
    "    preprocess(chunck)\n",
    "    start = time.time()\n",
    "    chunck.to_csv(file_name, mode='a')\n",
    "    end = time.time()\n",
    "    print(\"writing to csv took \" + str(end - start) + \" seconds\")"
   ]
  },
  {
   "attachments": {},
   "cell_type": "markdown",
   "metadata": {},
   "source": [
    "# Inspecting the sample"
   ]
  },
  {
   "cell_type": "code",
   "execution_count": null,
   "metadata": {},
   "outputs": [],
   "source": [
    "data = pd.read_csv(\"sample_preprocessed_no_punct.csv\")"
   ]
  },
  {
   "cell_type": "code",
   "execution_count": null,
   "metadata": {},
   "outputs": [
    {
     "data": {
      "text/plain": [
       "{'reliable': 20.5789732461298,\n",
       " 'political': 26.080370274338254,\n",
       " 'bias': 12.250382743769856,\n",
       " 'nan': 4.345365599646251,\n",
       " 'satire': 1.1984210407402904,\n",
       " 'fake': 9.648800987226094,\n",
       " 'conspiracy': 8.92591823538715,\n",
       " 'unknown': 3.9764468682791216,\n",
       " 'rumor': 5.189069504977552,\n",
       " 'unreliable': 3.2139717883144536,\n",
       " 'clickbait': 2.487646225334141,\n",
       " 'junksci': 1.2684607298974795,\n",
       " 'hate': 0.8262746739281293,\n",
       " 'type': 0.009898082031430715}"
      ]
     },
     "execution_count": 8,
     "metadata": {},
     "output_type": "execute_result"
    }
   ],
   "source": [
    "typedict = {}\n",
    "for i in data['type']: \n",
    "    if str(i) in typedict:\n",
    "        typedict[str(i)] +=1 \n",
    "    else: \n",
    "        typedict[str(i)] =1 \n",
    "typedict\n",
    "typedictperc = typedict.copy()\n",
    "#laver et nyt dictionairy som viser det i procenttal\n",
    "for i in typedictperc:\n",
    "    typedictperc[i] = (typedictperc[i]/(len(data)))*100\n",
    "\n",
    "typedictperc"
   ]
  },
  {
   "cell_type": "code",
   "execution_count": null,
   "metadata": {},
   "outputs": [
    {
     "data": {
      "text/plain": [
       "{'reliable': 22.561888537768805,\n",
       " 'political': 28.617108052577617,\n",
       " 'bias': 15.280389897611691,\n",
       " 'Satire': 1.716459421738357,\n",
       " 'fake': 10.905098641191126,\n",
       " 'conspiracy': 10.645397202669349,\n",
       " 'unreliable': 3.7580450222794273,\n",
       " 'clickbait': 3.4334005989277774,\n",
       " 'junksci': 1.703052520039264,\n",
       " 'hate': 1.3791601051965903}"
      ]
     },
     "execution_count": 1,
     "metadata": {},
     "output_type": "execute_result"
    }
   ],
   "source": [
    "allArticlesCount = 928083 + 146080 + 1300444 + 905981 + 144939 + 117374 + 292201 + 2435471 + 319830 + 1920139\n",
    "#Jeg henter data from README.md om hvor mange artikler af hver type, der er i det fulde datasæt\n",
    "realtypeperc = {\"reliable\": (1920139/allArticlesCount)*100, \"political\": (2435471/allArticlesCount)*100, \"bias\": (1300444/allArticlesCount)*100, \"Satire\": (146080/allArticlesCount)*100, \"fake\": (928083/allArticlesCount)*100, \"conspiracy\":(905981/allArticlesCount)*100, \"unreliable\": (319830/allArticlesCount)*100, \"clickbait\":(292201/allArticlesCount)*100, \"junksci\":(144939/allArticlesCount)*100 , \"hate\":(117374/allArticlesCount)*100}\n",
    "realtypeperc\n",
    "#jeg præsenterer det som procenter\n",
    "#ved sammenligning er det tydeligt, at Mikkels forkortede datasæt ikke har markant anderledes proportion ift. artikeltyper, end det fulde datasæt\n",
    "#Største forskel er at der er tilføjet nye typer af artikler som rumor til datasættet, siden README blev skrevet. \n",
    "#Vi kan bruge dette til at forsikre os selv om at vores forkortede datasæt er repræsentativt for det fulde datasæt. "
   ]
  },
  {
   "attachments": {},
   "cell_type": "markdown",
   "metadata": {},
   "source": []
  }
 ],
 "metadata": {
  "kernelspec": {
   "display_name": "fake_news",
   "language": "python",
   "name": "python3"
  },
  "language_info": {
   "codemirror_mode": {
    "name": "ipython",
    "version": 3
   },
   "file_extension": ".py",
   "mimetype": "text/x-python",
   "name": "python",
   "nbconvert_exporter": "python",
   "pygments_lexer": "ipython3",
   "version": "3.10.9"
  },
  "orig_nbformat": 4,
  "vscode": {
   "interpreter": {
    "hash": "d82b2e002de3f5f2748faab7eed39a54b7eae736eec0eed65c518ce11052f6ab"
   }
  }
 },
 "nbformat": 4,
 "nbformat_minor": 2
}
