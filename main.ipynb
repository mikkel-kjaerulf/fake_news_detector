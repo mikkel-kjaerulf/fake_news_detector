{
 "cells": [
  {
   "attachments": {},
   "cell_type": "markdown",
   "metadata": {},
   "source": [
    "Get subset of FakeNewCorpus data set"
   ]
  },
  {
   "cell_type": "code",
   "execution_count": null,
   "metadata": {},
   "outputs": [
    {
     "name": "stderr",
     "output_type": "stream",
     "text": [
      "Since the GPL-licensed package `unidecode` is not installed, using Python's `unicodedata` package which yields worse results.\n"
     ]
    },
    {
     "data": {
      "text/plain": [
       "0    sometimes the power of christmas will make you...\n",
       "1    awakening of <number> strands of dna \"reconnec...\n",
       "2    never hike alone: a friday the 13th fan film u...\n",
       "3    when a rare shark was caught, scientists were ...\n",
       "4    donald trump has the unnerving ability to abil...\n",
       "Name: content, dtype: object"
      ]
     },
     "execution_count": 1,
     "metadata": {},
     "output_type": "execute_result"
    }
   ],
   "source": [
    "import pandas as pd\n",
    "import nltk\n",
    "from cleantext import clean\n",
    "data = pd.read_csv('https://raw.githubusercontent.com/several27/FakeNewsCorpus/master/news_sample.csv')\n",
    "data['content'] = [clean(entry,\n",
    "                              lower=True,\n",
    "                              no_line_breaks=True,\n",
    "                              no_emails=True,\n",
    "                              no_urls=True,\n",
    "                              no_numbers=True,\n",
    "                               lang=\"en\"\n",
    "                              ) for entry in data['content']]\n",
    "data['content'].head()"
   ]
  }
 ],
 "metadata": {
  "kernelspec": {
   "display_name": "fake_news",
   "language": "python",
   "name": "python3"
  },
  "language_info": {
   "codemirror_mode": {
    "name": "ipython",
    "version": 3
   },
   "file_extension": ".py",
   "mimetype": "text/x-python",
   "name": "python",
   "nbconvert_exporter": "python",
   "pygments_lexer": "ipython3",
   "version": "3.10.9 (main, Jan 11 2023, 15:21:40) [GCC 11.2.0]"
  },
  "orig_nbformat": 4,
  "vscode": {
   "interpreter": {
    "hash": "d82b2e002de3f5f2748faab7eed39a54b7eae736eec0eed65c518ce11052f6ab"
   }
  }
 },
 "nbformat": 4,
 "nbformat_minor": 2
}
