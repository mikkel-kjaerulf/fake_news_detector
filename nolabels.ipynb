{
 "cells": [
  {
   "cell_type": "code",
   "execution_count": 1,
   "metadata": {},
   "outputs": [],
   "source": [
    "import csv\n",
    "import pandas as pd\n",
    "import random\n",
    "import pyarrow.feather as feather\n",
    "import regex as re\n",
    "from cleantext import clean\n",
    "import pyarrow.feather as feather\n",
    "from multiprocessing import Pool\n",
    "import gc\n",
    "import nltk\n",
    "import itertools\n",
    "import numpy as np\n",
    "from nltk.corpus import stopwords\n",
    "from nltk.stem.porter import *\n",
    "import time\n",
    "import gc"
   ]
  },
  {
   "cell_type": "code",
   "execution_count": 2,
   "metadata": {},
   "outputs": [],
   "source": [
    "def getSample(csvstring: str):\n",
    "    random.seed = 42 \n",
    "    n = 11000000 #number of records in file (excludes header)\n",
    "    s = 1900000 #desired sample size\n",
    "    skip = sorted(random.sample(range(1,n+1),n-s))\n",
    "    # Read the CSV file, skipping the randomly selected rows\n",
    "    sampled_data = pd.read_csv(csvstring, on_bad_lines='skip', skiprows=skip)\n",
    "    sampled_data = sampled_data.reset_index()\n",
    "    return sampled_data\n"
   ]
  },
  {
   "cell_type": "code",
   "execution_count": 3,
   "metadata": {},
   "outputs": [
    {
     "name": "stderr",
     "output_type": "stream",
     "text": [
      "C:\\Users\\olink\\AppData\\Local\\Temp\\ipykernel_21416\\1275764741.py:7: DtypeWarning: Columns (0,1,11,14,16) have mixed types. Specify dtype option on import or set low_memory=False.\n",
      "  sampled_data = pd.read_csv(csvstring, on_bad_lines='skip', skiprows=skip)\n"
     ]
    }
   ],
   "source": [
    "sampled_data = getSample('data/news_cleaned_2018_02_13-1.csv')\n"
   ]
  },
  {
   "cell_type": "code",
   "execution_count": 4,
   "metadata": {},
   "outputs": [
    {
     "data": {
      "text/plain": [
       "1472818"
      ]
     },
     "execution_count": 4,
     "metadata": {},
     "output_type": "execute_result"
    }
   ],
   "source": [
    "\n",
    "len(sampled_data)\n",
    "1473479\n",
    "\n"
   ]
  },
  {
   "cell_type": "code",
   "execution_count": 5,
   "metadata": {},
   "outputs": [
    {
     "data": {
      "text/html": [
       "<div>\n",
       "<style scoped>\n",
       "    .dataframe tbody tr th:only-of-type {\n",
       "        vertical-align: middle;\n",
       "    }\n",
       "\n",
       "    .dataframe tbody tr th {\n",
       "        vertical-align: top;\n",
       "    }\n",
       "\n",
       "    .dataframe thead th {\n",
       "        text-align: right;\n",
       "    }\n",
       "</style>\n",
       "<table border=\"1\" class=\"dataframe\">\n",
       "  <thead>\n",
       "    <tr style=\"text-align: right;\">\n",
       "      <th></th>\n",
       "      <th>index</th>\n",
       "      <th>Unnamed: 0</th>\n",
       "      <th>id</th>\n",
       "      <th>domain</th>\n",
       "      <th>type</th>\n",
       "      <th>url</th>\n",
       "      <th>content</th>\n",
       "      <th>scraped_at</th>\n",
       "      <th>inserted_at</th>\n",
       "      <th>updated_at</th>\n",
       "      <th>title</th>\n",
       "      <th>authors</th>\n",
       "      <th>keywords</th>\n",
       "      <th>meta_keywords</th>\n",
       "      <th>meta_description</th>\n",
       "      <th>tags</th>\n",
       "      <th>summary</th>\n",
       "      <th>source</th>\n",
       "    </tr>\n",
       "  </thead>\n",
       "  <tbody>\n",
       "    <tr>\n",
       "      <th>0</th>\n",
       "      <td>0</td>\n",
       "      <td>6</td>\n",
       "      <td>11</td>\n",
       "      <td>blackagendareport.com</td>\n",
       "      <td>unreliable</td>\n",
       "      <td>https://blackagendareport.com/un-backed-police...</td>\n",
       "      <td>UN-Backed Police Massacred Haitians With Impun...</td>\n",
       "      <td>2018-01-25 16:17:44.789555</td>\n",
       "      <td>2018-02-02 01:19:41.756632</td>\n",
       "      <td>2018-02-02 01:19:41.756664</td>\n",
       "      <td>UN-Backed Police Massacred Haitians With Impunity</td>\n",
       "      <td>Akinyele Umoja, Glen Ford, Bar Executive Edito...</td>\n",
       "      <td>NaN</td>\n",
       "      <td>['']</td>\n",
       "      <td>“When the police finally left the campus, arou...</td>\n",
       "      <td>NaN</td>\n",
       "      <td>NaN</td>\n",
       "      <td>NaN</td>\n",
       "    </tr>\n",
       "    <tr>\n",
       "      <th>1</th>\n",
       "      <td>1</td>\n",
       "      <td>12</td>\n",
       "      <td>19</td>\n",
       "      <td>blackgenocide.org</td>\n",
       "      <td>conspiracy</td>\n",
       "      <td>http://blackgenocide.org/archived_articles/neg...</td>\n",
       "      <td>\"…I have set before you life and death, blessi...</td>\n",
       "      <td>2018-01-25 16:17:44.789555</td>\n",
       "      <td>2018-02-02 01:19:41.756632</td>\n",
       "      <td>2018-02-02 01:19:41.756664</td>\n",
       "      <td>BlackGenocide.org</td>\n",
       "      <td>NaN</td>\n",
       "      <td>NaN</td>\n",
       "      <td>['planned parenthood', 'minorities', 'black cu...</td>\n",
       "      <td>The Negro Project is a devastating eugenic sta...</td>\n",
       "      <td>NaN</td>\n",
       "      <td>NaN</td>\n",
       "      <td>NaN</td>\n",
       "    </tr>\n",
       "    <tr>\n",
       "      <th>2</th>\n",
       "      <td>2</td>\n",
       "      <td>23</td>\n",
       "      <td>30</td>\n",
       "      <td>blacklistednews.com</td>\n",
       "      <td>clickbait</td>\n",
       "      <td>https://www.blacklistednews.com/Egypt%E2%80%99...</td>\n",
       "      <td>Egypt’s presidential campaign has kicked into ...</td>\n",
       "      <td>2018-01-25 16:17:44.789555</td>\n",
       "      <td>2018-02-02 01:19:41.756632</td>\n",
       "      <td>2018-02-02 01:19:41.756664</td>\n",
       "      <td>Egypt’s race for president kicks off with arre...</td>\n",
       "      <td>NaN</td>\n",
       "      <td>NaN</td>\n",
       "      <td>['']</td>\n",
       "      <td>The Best in uncensored news, information, and ...</td>\n",
       "      <td>NaN</td>\n",
       "      <td>NaN</td>\n",
       "      <td>NaN</td>\n",
       "    </tr>\n",
       "    <tr>\n",
       "      <th>3</th>\n",
       "      <td>3</td>\n",
       "      <td>27</td>\n",
       "      <td>34</td>\n",
       "      <td>beforeitsnews.com</td>\n",
       "      <td>fake</td>\n",
       "      <td>http://beforeitsnews.com/opinion-conservative/...</td>\n",
       "      <td>Headline: Bitcoin &amp; Blockchain Searches Exceed...</td>\n",
       "      <td>2018-01-25 16:17:44.789555</td>\n",
       "      <td>2018-02-02 01:19:41.756632</td>\n",
       "      <td>2018-02-02 01:19:41.756664</td>\n",
       "      <td>Surprise: Socialist Hotbed Of Venezuela Has Lo...</td>\n",
       "      <td>The Pirate'S Cove</td>\n",
       "      <td>NaN</td>\n",
       "      <td>['']</td>\n",
       "      <td>NaN</td>\n",
       "      <td>NaN</td>\n",
       "      <td>NaN</td>\n",
       "      <td>NaN</td>\n",
       "    </tr>\n",
       "    <tr>\n",
       "      <th>4</th>\n",
       "      <td>4</td>\n",
       "      <td>32</td>\n",
       "      <td>39</td>\n",
       "      <td>beforeitsnews.com</td>\n",
       "      <td>fake</td>\n",
       "      <td>http://beforeitsnews.com/environment/2018/01/s...</td>\n",
       "      <td>Scientists move Doomsday Clock ahead by 30 sec...</td>\n",
       "      <td>2018-01-25 16:17:44.789555</td>\n",
       "      <td>2018-02-02 01:19:41.756632</td>\n",
       "      <td>2018-02-02 01:19:41.756664</td>\n",
       "      <td>Scientists move Doomsday Clock ahead by 30 sec...</td>\n",
       "      <td>Desdemona Despair</td>\n",
       "      <td>NaN</td>\n",
       "      <td>['']</td>\n",
       "      <td>NaN</td>\n",
       "      <td>NaN</td>\n",
       "      <td>NaN</td>\n",
       "      <td>NaN</td>\n",
       "    </tr>\n",
       "  </tbody>\n",
       "</table>\n",
       "</div>"
      ],
      "text/plain": [
       "   index Unnamed: 0  id                 domain        type  \\\n",
       "0      0          6  11  blackagendareport.com  unreliable   \n",
       "1      1         12  19      blackgenocide.org  conspiracy   \n",
       "2      2         23  30    blacklistednews.com   clickbait   \n",
       "3      3         27  34      beforeitsnews.com        fake   \n",
       "4      4         32  39      beforeitsnews.com        fake   \n",
       "\n",
       "                                                 url  \\\n",
       "0  https://blackagendareport.com/un-backed-police...   \n",
       "1  http://blackgenocide.org/archived_articles/neg...   \n",
       "2  https://www.blacklistednews.com/Egypt%E2%80%99...   \n",
       "3  http://beforeitsnews.com/opinion-conservative/...   \n",
       "4  http://beforeitsnews.com/environment/2018/01/s...   \n",
       "\n",
       "                                             content  \\\n",
       "0  UN-Backed Police Massacred Haitians With Impun...   \n",
       "1  \"…I have set before you life and death, blessi...   \n",
       "2  Egypt’s presidential campaign has kicked into ...   \n",
       "3  Headline: Bitcoin & Blockchain Searches Exceed...   \n",
       "4  Scientists move Doomsday Clock ahead by 30 sec...   \n",
       "\n",
       "                   scraped_at                 inserted_at  \\\n",
       "0  2018-01-25 16:17:44.789555  2018-02-02 01:19:41.756632   \n",
       "1  2018-01-25 16:17:44.789555  2018-02-02 01:19:41.756632   \n",
       "2  2018-01-25 16:17:44.789555  2018-02-02 01:19:41.756632   \n",
       "3  2018-01-25 16:17:44.789555  2018-02-02 01:19:41.756632   \n",
       "4  2018-01-25 16:17:44.789555  2018-02-02 01:19:41.756632   \n",
       "\n",
       "                   updated_at  \\\n",
       "0  2018-02-02 01:19:41.756664   \n",
       "1  2018-02-02 01:19:41.756664   \n",
       "2  2018-02-02 01:19:41.756664   \n",
       "3  2018-02-02 01:19:41.756664   \n",
       "4  2018-02-02 01:19:41.756664   \n",
       "\n",
       "                                               title  \\\n",
       "0  UN-Backed Police Massacred Haitians With Impunity   \n",
       "1                                  BlackGenocide.org   \n",
       "2  Egypt’s race for president kicks off with arre...   \n",
       "3  Surprise: Socialist Hotbed Of Venezuela Has Lo...   \n",
       "4  Scientists move Doomsday Clock ahead by 30 sec...   \n",
       "\n",
       "                                             authors keywords  \\\n",
       "0  Akinyele Umoja, Glen Ford, Bar Executive Edito...      NaN   \n",
       "1                                                NaN      NaN   \n",
       "2                                                NaN      NaN   \n",
       "3                                  The Pirate'S Cove      NaN   \n",
       "4                                  Desdemona Despair      NaN   \n",
       "\n",
       "                                       meta_keywords  \\\n",
       "0                                               ['']   \n",
       "1  ['planned parenthood', 'minorities', 'black cu...   \n",
       "2                                               ['']   \n",
       "3                                               ['']   \n",
       "4                                               ['']   \n",
       "\n",
       "                                    meta_description tags  summary source  \n",
       "0  “When the police finally left the campus, arou...  NaN      NaN    NaN  \n",
       "1  The Negro Project is a devastating eugenic sta...  NaN      NaN    NaN  \n",
       "2  The Best in uncensored news, information, and ...  NaN      NaN    NaN  \n",
       "3                                                NaN  NaN      NaN    NaN  \n",
       "4                                                NaN  NaN      NaN    NaN  "
      ]
     },
     "execution_count": 5,
     "metadata": {},
     "output_type": "execute_result"
    }
   ],
   "source": [
    "sampled_data.head()"
   ]
  },
  {
   "cell_type": "code",
   "execution_count": 6,
   "metadata": {},
   "outputs": [
    {
     "name": "stdout",
     "output_type": "stream",
     "text": [
      "{'fake': 51.69114677063201, 'reliable': 48.30885322936799}\n",
      "1081899\n"
     ]
    }
   ],
   "source": [
    "def removeLabels(df): \n",
    "    df.type = df.type.replace({'political': 'reliable', 'junksci': 'fake', 'bias' : 'fake', 'satire': 'fake', 'conspiracy': 'fake', 'rumor': 'fake', 'unreliable' : 'fake', 'clickbait': 'fake', 'hate': 'fake'})\n",
    "    df = df[(df.type == 'reliable') |(df.type == 'fake')]\n",
    "    df = df[df.type.notnull()]\n",
    "    df = df[df.content.notnull()]\n",
    "    df = df.drop_duplicates(subset = 'content', keep = 'last')\n",
    "    df = df.reset_index()\n",
    "    return df \n",
    "\n",
    "def labelperc(df): \n",
    "    labeldict = {}\n",
    "    for i in df.type: \n",
    "        if i in labeldict: \n",
    "            labeldict[i] +=1\n",
    "        else: \n",
    "            labeldict[i] = 1\n",
    "    for i in labeldict: \n",
    "        labeldict[i] = labeldict[i]/len(df)*100\n",
    "    return labeldict\n",
    "cleanSample = removeLabels(sampled_data)\n",
    "print(labelperc(cleanSample)) \n",
    "print(len(cleanSample))\n",
    "\n",
    "\n"
   ]
  },
  {
   "cell_type": "code",
   "execution_count": 7,
   "metadata": {},
   "outputs": [
    {
     "data": {
      "text/plain": [
       "0"
      ]
     },
     "execution_count": 7,
     "metadata": {},
     "output_type": "execute_result"
    }
   ],
   "source": [
    "del sampled_data\n",
    "gc.collect()"
   ]
  },
  {
   "cell_type": "code",
   "execution_count": 8,
   "metadata": {},
   "outputs": [
    {
     "data": {
      "text/plain": [
       "'Apparently, President Trump wondered why as well, and yesterday he decided to cut ALL military aid ($255 million per year) to Pakistan, the country that hid Osama bin Laden for years after 9/11. The monetary aid was denied to the Pakistan government in response to its ineffective action against terrorists and militants on its soil.\\n\\nThe Hindustan Times The Trump administration on Friday announced the United States will deny Pakistan military aid amounting to $255 million as it expects Islamabad to take decisive action “against terrorists and militants on its soil”.\\n\\n“The President has made clear that the United States expects Pakistan to take decisive action against terrorists and militants on its soil, and that Pakistan’s actions in support of the South Asia Strategy will ultimately determine the trajectory of our relationship, including future security assistance.\\n\\n“The Administration continues to review Pakistan’s level of cooperation.”\\n\\nThe statement reflected and sealed the administration’s complete disillusionment with Pakistan, which had sought to brazenly disregard the explicit warnings issued by President Donald Trump personally and leading members of his cabinet, such as secretaries James Mattis and Rex Tillerson.\\n\\n“This could be the severest blow dealt to Islamabad by this administration if it indeed decided to withhold it,” said a leading US expert on Pakistan, who did not want to be identified. “There is more coming,” the expert added.'"
      ]
     },
     "execution_count": 8,
     "metadata": {},
     "output_type": "execute_result"
    }
   ],
   "source": [
    "cleanSample.content[5]"
   ]
  },
  {
   "cell_type": "code",
   "execution_count": 9,
   "metadata": {},
   "outputs": [
    {
     "data": {
      "text/plain": [
       "0"
      ]
     },
     "execution_count": 9,
     "metadata": {},
     "output_type": "execute_result"
    }
   ],
   "source": [
    "def checkForDuplicateArticles(df): \n",
    "    articledict = {}\n",
    "    df_sample = df.sample(frac=0.1, random_state=1)\n",
    "    for i in df_sample.content: \n",
    "        if str(i) in articledict: \n",
    "            articledict[str(i)] +=1\n",
    "        else: \n",
    "            articledict[str(i)] = 1\n",
    "    #at this point we have all different contents, and the amount of times we see them\n",
    "    articledict = {key:val for key, val in articledict.items() if val >1}\n",
    "    #here we delete the contents which we only see once\n",
    "\n",
    "    contentsToRemove = list(articledict.keys())\n",
    "    #get a list of the content, we will remove articles for containing\n",
    "    \n",
    "    \n",
    "    return contentsToRemove\n",
    "    \n",
    "wordstoremove = checkForDuplicateArticles(cleanSample)\n",
    "len(wordstoremove)\n",
    "\n",
    "\n"
   ]
  }
 ],
 "metadata": {
  "kernelspec": {
   "display_name": "ds",
   "language": "python",
   "name": "python3"
  },
  "language_info": {
   "codemirror_mode": {
    "name": "ipython",
    "version": 3
   },
   "file_extension": ".py",
   "mimetype": "text/x-python",
   "name": "python",
   "nbconvert_exporter": "python",
   "pygments_lexer": "ipython3",
   "version": "3.10.9"
  },
  "orig_nbformat": 4
 },
 "nbformat": 4,
 "nbformat_minor": 2
}
