{
 "cells": [
  {
   "cell_type": "code",
   "execution_count": 4,
   "metadata": {},
   "outputs": [],
   "source": [
    "import csv\n",
    "import pandas as pd\n",
    "import random\n",
    "import pyarrow.feather as feather\n",
    "import regex as re\n",
    "from cleantext import clean\n",
    "import pyarrow.feather as feather\n",
    "from multiprocessing import Pool\n",
    "import gc\n",
    "import nltk\n",
    "import itertools\n",
    "import numpy as np\n",
    "from nltk.corpus import stopwords\n",
    "from nltk.stem.porter import *\n",
    "import time\n",
    "import gc"
   ]
  },
  {
   "cell_type": "code",
   "execution_count": 5,
   "metadata": {},
   "outputs": [],
   "source": [
    "#Indhenter et sample på ca. 1,45M artikler, meget tidseffektivt\n",
    "def getSample(csvstring: str):\n",
    "    random.seed(0)\n",
    "    n = 11000000 #number of records in file (excludes header)\n",
    "    s = 1900000 #desired sample size\n",
    "    skip = sorted(random.sample(range(1,n+1),n-s))\n",
    "    # Read the CSV file, skipping the randomly selected rows\n",
    "    sampled_data = pd.read_csv(csvstring, on_bad_lines='skip', skiprows=skip, index_col=0)\n",
    "    sampled_data = sampled_data.reset_index()\n",
    "    return sampled_data\n"
   ]
  },
  {
   "cell_type": "code",
   "execution_count": 17,
   "metadata": {},
   "outputs": [
    {
     "name": "stderr",
     "output_type": "stream",
     "text": [
      "C:\\Users\\olink\\AppData\\Local\\Temp\\ipykernel_7520\\2548950878.py:7: DtypeWarning: Columns (0,1,11,14,16) have mixed types. Specify dtype option on import or set low_memory=False.\n",
      "  sampled_data = pd.read_csv(csvstring, on_bad_lines='skip', skiprows=skip)\n"
     ]
    }
   ],
   "source": [
    "sampled_data = getSample('data/news_cleaned_2018_02_13-1.csv')\n"
   ]
  },
  {
   "cell_type": "code",
   "execution_count": 18,
   "metadata": {},
   "outputs": [
    {
     "data": {
      "text/plain": [
       "1472768"
      ]
     },
     "execution_count": 18,
     "metadata": {},
     "output_type": "execute_result"
    }
   ],
   "source": [
    "\n",
    "len(sampled_data)\n"
   ]
  },
  {
   "cell_type": "code",
   "execution_count": 8,
   "metadata": {},
   "outputs": [
    {
     "data": {
      "text/html": [
       "<div>\n",
       "<style scoped>\n",
       "    .dataframe tbody tr th:only-of-type {\n",
       "        vertical-align: middle;\n",
       "    }\n",
       "\n",
       "    .dataframe tbody tr th {\n",
       "        vertical-align: top;\n",
       "    }\n",
       "\n",
       "    .dataframe thead th {\n",
       "        text-align: right;\n",
       "    }\n",
       "</style>\n",
       "<table border=\"1\" class=\"dataframe\">\n",
       "  <thead>\n",
       "    <tr style=\"text-align: right;\">\n",
       "      <th></th>\n",
       "      <th>index</th>\n",
       "      <th>Unnamed: 0</th>\n",
       "      <th>id</th>\n",
       "      <th>domain</th>\n",
       "      <th>type</th>\n",
       "      <th>url</th>\n",
       "      <th>content</th>\n",
       "      <th>scraped_at</th>\n",
       "      <th>inserted_at</th>\n",
       "      <th>updated_at</th>\n",
       "      <th>title</th>\n",
       "      <th>authors</th>\n",
       "      <th>keywords</th>\n",
       "      <th>meta_keywords</th>\n",
       "      <th>meta_description</th>\n",
       "      <th>tags</th>\n",
       "      <th>summary</th>\n",
       "      <th>source</th>\n",
       "    </tr>\n",
       "  </thead>\n",
       "  <tbody>\n",
       "    <tr>\n",
       "      <th>0</th>\n",
       "      <td>0</td>\n",
       "      <td>11</td>\n",
       "      <td>18</td>\n",
       "      <td>blackgenocide.org</td>\n",
       "      <td>conspiracy</td>\n",
       "      <td>http://blackgenocide.org/speaking_request.html</td>\n",
       "      <td>\\n\\nSpeaking Engagement Request\\n\\n\\n\\nContact...</td>\n",
       "      <td>2018-01-25 16:17:44.789555</td>\n",
       "      <td>2018-02-02 01:19:41.756632</td>\n",
       "      <td>2018-02-02 01:19:41.756664</td>\n",
       "      <td>Request Speaking Engagement</td>\n",
       "      <td>NaN</td>\n",
       "      <td>NaN</td>\n",
       "      <td>['']</td>\n",
       "      <td>NaN</td>\n",
       "      <td>NaN</td>\n",
       "      <td>NaN</td>\n",
       "      <td>NaN</td>\n",
       "    </tr>\n",
       "    <tr>\n",
       "      <th>1</th>\n",
       "      <td>1</td>\n",
       "      <td>12</td>\n",
       "      <td>19</td>\n",
       "      <td>blackgenocide.org</td>\n",
       "      <td>conspiracy</td>\n",
       "      <td>http://blackgenocide.org/archived_articles/neg...</td>\n",
       "      <td>\"…I have set before you life and death, blessi...</td>\n",
       "      <td>2018-01-25 16:17:44.789555</td>\n",
       "      <td>2018-02-02 01:19:41.756632</td>\n",
       "      <td>2018-02-02 01:19:41.756664</td>\n",
       "      <td>BlackGenocide.org</td>\n",
       "      <td>NaN</td>\n",
       "      <td>NaN</td>\n",
       "      <td>['planned parenthood', 'minorities', 'black cu...</td>\n",
       "      <td>The Negro Project is a devastating eugenic sta...</td>\n",
       "      <td>NaN</td>\n",
       "      <td>NaN</td>\n",
       "      <td>NaN</td>\n",
       "    </tr>\n",
       "    <tr>\n",
       "      <th>2</th>\n",
       "      <td>2</td>\n",
       "      <td>17</td>\n",
       "      <td>24</td>\n",
       "      <td>awm.com</td>\n",
       "      <td>unreliable</td>\n",
       "      <td>http://awm.com/woman-waves-hand-in-front-of-li...</td>\n",
       "      <td>Most people’s pets are a member of the family ...</td>\n",
       "      <td>2018-01-25 16:17:44.789555</td>\n",
       "      <td>2018-02-02 01:19:41.756632</td>\n",
       "      <td>2018-02-02 01:19:41.756664</td>\n",
       "      <td>Woman Waves Hand In Front Of Lizard’s Tank, Ca...</td>\n",
       "      <td>Wendy Michaels</td>\n",
       "      <td>NaN</td>\n",
       "      <td>['']</td>\n",
       "      <td>NaN</td>\n",
       "      <td>NaN</td>\n",
       "      <td>NaN</td>\n",
       "      <td>NaN</td>\n",
       "    </tr>\n",
       "    <tr>\n",
       "      <th>3</th>\n",
       "      <td>3</td>\n",
       "      <td>18</td>\n",
       "      <td>25</td>\n",
       "      <td>awm.com</td>\n",
       "      <td>unreliable</td>\n",
       "      <td>http://awm.com/man-goes-to-throw-away-christma...</td>\n",
       "      <td>Dogs are fantastic. They provide so much joy i...</td>\n",
       "      <td>2018-01-25 16:17:44.789555</td>\n",
       "      <td>2018-02-02 01:19:41.756632</td>\n",
       "      <td>2018-02-02 01:19:41.756664</td>\n",
       "      <td>Man Goes To Throw Away Christmas Tree. Doesn’t...</td>\n",
       "      <td>Kate Anslinger</td>\n",
       "      <td>NaN</td>\n",
       "      <td>['']</td>\n",
       "      <td>NaN</td>\n",
       "      <td>NaN</td>\n",
       "      <td>NaN</td>\n",
       "      <td>NaN</td>\n",
       "    </tr>\n",
       "    <tr>\n",
       "      <th>4</th>\n",
       "      <td>4</td>\n",
       "      <td>34</td>\n",
       "      <td>41</td>\n",
       "      <td>beforeitsnews.com</td>\n",
       "      <td>fake</td>\n",
       "      <td>http://beforeitsnews.com/politics/2018/01/poll...</td>\n",
       "      <td>Poll: Calls for War From Israelis and Palestin...</td>\n",
       "      <td>2018-01-25 16:17:44.789555</td>\n",
       "      <td>2018-02-02 01:19:41.756632</td>\n",
       "      <td>2018-02-02 01:19:41.756664</td>\n",
       "      <td>Poll: Calls for War From Israelis and Palestin...</td>\n",
       "      <td>NaN</td>\n",
       "      <td>NaN</td>\n",
       "      <td>['']</td>\n",
       "      <td>NaN</td>\n",
       "      <td>NaN</td>\n",
       "      <td>NaN</td>\n",
       "      <td>NaN</td>\n",
       "    </tr>\n",
       "  </tbody>\n",
       "</table>\n",
       "</div>"
      ],
      "text/plain": [
       "   index Unnamed: 0  id             domain        type  \\\n",
       "0      0         11  18  blackgenocide.org  conspiracy   \n",
       "1      1         12  19  blackgenocide.org  conspiracy   \n",
       "2      2         17  24            awm.com  unreliable   \n",
       "3      3         18  25            awm.com  unreliable   \n",
       "4      4         34  41  beforeitsnews.com        fake   \n",
       "\n",
       "                                                 url  \\\n",
       "0     http://blackgenocide.org/speaking_request.html   \n",
       "1  http://blackgenocide.org/archived_articles/neg...   \n",
       "2  http://awm.com/woman-waves-hand-in-front-of-li...   \n",
       "3  http://awm.com/man-goes-to-throw-away-christma...   \n",
       "4  http://beforeitsnews.com/politics/2018/01/poll...   \n",
       "\n",
       "                                             content  \\\n",
       "0  \\n\\nSpeaking Engagement Request\\n\\n\\n\\nContact...   \n",
       "1  \"…I have set before you life and death, blessi...   \n",
       "2  Most people’s pets are a member of the family ...   \n",
       "3  Dogs are fantastic. They provide so much joy i...   \n",
       "4  Poll: Calls for War From Israelis and Palestin...   \n",
       "\n",
       "                   scraped_at                 inserted_at  \\\n",
       "0  2018-01-25 16:17:44.789555  2018-02-02 01:19:41.756632   \n",
       "1  2018-01-25 16:17:44.789555  2018-02-02 01:19:41.756632   \n",
       "2  2018-01-25 16:17:44.789555  2018-02-02 01:19:41.756632   \n",
       "3  2018-01-25 16:17:44.789555  2018-02-02 01:19:41.756632   \n",
       "4  2018-01-25 16:17:44.789555  2018-02-02 01:19:41.756632   \n",
       "\n",
       "                   updated_at  \\\n",
       "0  2018-02-02 01:19:41.756664   \n",
       "1  2018-02-02 01:19:41.756664   \n",
       "2  2018-02-02 01:19:41.756664   \n",
       "3  2018-02-02 01:19:41.756664   \n",
       "4  2018-02-02 01:19:41.756664   \n",
       "\n",
       "                                               title         authors keywords  \\\n",
       "0                        Request Speaking Engagement             NaN      NaN   \n",
       "1                                  BlackGenocide.org             NaN      NaN   \n",
       "2  Woman Waves Hand In Front Of Lizard’s Tank, Ca...  Wendy Michaels      NaN   \n",
       "3  Man Goes To Throw Away Christmas Tree. Doesn’t...  Kate Anslinger      NaN   \n",
       "4  Poll: Calls for War From Israelis and Palestin...             NaN      NaN   \n",
       "\n",
       "                                       meta_keywords  \\\n",
       "0                                               ['']   \n",
       "1  ['planned parenthood', 'minorities', 'black cu...   \n",
       "2                                               ['']   \n",
       "3                                               ['']   \n",
       "4                                               ['']   \n",
       "\n",
       "                                    meta_description tags  summary source  \n",
       "0                                                NaN  NaN      NaN    NaN  \n",
       "1  The Negro Project is a devastating eugenic sta...  NaN      NaN    NaN  \n",
       "2                                                NaN  NaN      NaN    NaN  \n",
       "3                                                NaN  NaN      NaN    NaN  \n",
       "4                                                NaN  NaN      NaN    NaN  "
      ]
     },
     "execution_count": 8,
     "metadata": {},
     "output_type": "execute_result"
    }
   ],
   "source": [
    "sampled_data.head()"
   ]
  },
  {
   "cell_type": "code",
   "execution_count": 19,
   "metadata": {},
   "outputs": [
    {
     "name": "stdout",
     "output_type": "stream",
     "text": [
      "{'fake': 51.66993688660282, 'reliable': 48.33006311339719}\n",
      "1082496\n"
     ]
    }
   ],
   "source": [
    "#Fjerner de artikler vi ikke skal bruge, og klassificerer alt som reliable/fake\n",
    "def removeLabels(df): \n",
    "    #klassificerer alle de artikler vi vil bruge ind i reliable eller fake\n",
    "    df.type = df.type.replace({'political': 'reliable', 'junksci': 'fake', 'bias' : 'fake', 'satire': 'fake', 'conspiracy': 'fake', 'rumor': 'fake', 'unreliable' : 'fake', 'clickbait': 'fake', 'hate': 'fake'})\n",
    "    #fjerner artikler som har volapyk types (inklusiv 'unknown')\n",
    "    df = df[(df.type == 'reliable') |(df.type == 'fake')]\n",
    "    #fjerner artikler som ikke har nogen type\n",
    "    df = df[df.type.notnull()]\n",
    "    #fjerner artikler uden content\n",
    "    df = df[df.content.notnull()]\n",
    "    #fjerner duplerede artikler, ud over en enkelt\n",
    "    df = df.drop_duplicates(subset = 'content', keep = 'last')\n",
    "    #reset index gør, at hvis vi fjerner artikle [2], bliver artikel [3] rykket ned på index [2] osv. dernedad.\n",
    "    df = df.reset_index()\n",
    "    return df \n",
    "\n",
    "#Returnerer et dictionary, som repræsenterer den procentmæssige fordeling af typerne i et dataframe\n",
    "def labelperc(df): \n",
    "    labeldict = {}\n",
    "    for i in df.type: \n",
    "        if i in labeldict: \n",
    "            labeldict[i] +=1\n",
    "        else: \n",
    "            labeldict[i] = 1\n",
    "    for i in labeldict: \n",
    "        labeldict[i] = labeldict[i]/len(df)*100\n",
    "    return labeldict\n",
    "cleanSample = removeLabels(sampled_data)\n",
    "print(labelperc(cleanSample)) \n",
    "print(len(cleanSample))\n",
    "\n",
    "\n"
   ]
  },
  {
   "cell_type": "code",
   "execution_count": 10,
   "metadata": {},
   "outputs": [
    {
     "data": {
      "text/plain": [
       "0"
      ]
     },
     "execution_count": 10,
     "metadata": {},
     "output_type": "execute_result"
    }
   ],
   "source": [
    "del sampled_data\n",
    "gc.collect()\n",
    "#fjerner sampled_data, som vi ikke bruger længere, fra memory"
   ]
  },
  {
   "cell_type": "code",
   "execution_count": 11,
   "metadata": {},
   "outputs": [
    {
     "data": {
      "text/plain": [
       "'Animal rescue workers in California received an unusual call near the end of December 2017. In a dumpster, bystanders found a very weird-looking animal. And when they arrived at the scene to help it out, they found that it was a female bear cub that was utterly hairless after losing it all. Now that the cub, who has since been named Eve, is under the care of the Bear League rescue group, which is in Homewood, California, she is getting the care she needs to get her health back on track.\\n\\nThe rescue group said that female cub lost her hair because of a bad case of mange. And when she was taken in, she was rushed to emergency care for an entire week. And at the end of it, they saved her life. But if she hadn’t been taken to the Bear League rescue group, she might not have made it.\\n\\n“We’ve seen this condition before, it seems to result from the cub’s mother being killed early in the season and then the very small young one tries desperately to make it on their own but goes hungry most of the time,” the Bear League said in a Facebook post. “Their immune system is therefore terribly compromised, and they succumb to mange and stunted growth.”\\n\\nAfter Bear League helped get the bear out of the emergency state, volunteers with California Department of Fish and Wildlife arrived to transport the hairless bear cub to The Fund for Animals Wildlife Center in San Diego County.\\n\\nThe Bear League said:\\n\\n“A couple of compassionate and dedicated wildlife volunteers drove this little girl down to the Center on the day before Christmas. Though we told them we don’t name our patients, they had decided that she deserved a name and called her ‘Eve’ – in honor of the holiday. She was being given a special gift for Christmas. She would now have a warm, safe place to heal.”\\n\\nWhen the little bear arrived, caretakers took her in and are focusing on helping her gain weight so she can get back on the track of good health.\\n\\nRescuer workers believe the cub is about a year old. And if she regrows her hair as they expect, she will eventually be released back into the wild.\\n\\nThe Bear League has taken a solid interest in the hairless black bear cub. And a few days before this writing, they shared an update to their Facebook page that read:\\n\\n“Our little bare-bear is doing great! She is a hearty eater and so far has not been picky at all. She is responding well to enrichment items, and so far she has adjusted well to her new environment. She will need to remain in the medical ward for now, where we can sanitize her room, and we have the ability to keep her away from inclement weather and keep her on heat during our chilly nights.”\\n\\nWhat do you think about this little hairless black bear cub? Do you think she’ll make a full recovery?'"
      ]
     },
     "execution_count": 11,
     "metadata": {},
     "output_type": "execute_result"
    }
   ],
   "source": [
    "cleanSample.content[5]"
   ]
  },
  {
   "cell_type": "code",
   "execution_count": 12,
   "metadata": {},
   "outputs": [
    {
     "data": {
      "text/plain": [
       "0"
      ]
     },
     "execution_count": 12,
     "metadata": {},
     "output_type": "execute_result"
    }
   ],
   "source": [
    "#Bare et check for om der er dublerede artikler. Denne funktion er ikke længere vigtig, fordi den altid returnerer [], efter et dataframe\n",
    "#har været igennem removeLabels(). Ellers ville den returnere en liste af dubleret content\n",
    "def checkForDuplicateArticles(df): \n",
    "    articledict = {}\n",
    "    df_sample = df.sample(frac=0.1, random_state=1)\n",
    "    for i in df_sample.content: \n",
    "        if str(i) in articledict: \n",
    "            articledict[str(i)] +=1\n",
    "        else: \n",
    "            articledict[str(i)] = 1\n",
    "    #at this point we have all different contents, and the amount of times we see them\n",
    "    articledict = {key:val for key, val in articledict.items() if val >1}\n",
    "    #here we delete the contents which we only see once\n",
    "\n",
    "    contentsToRemove = list(articledict.keys())\n",
    "    #get a list of the content, we will remove articles for containing\n",
    "    \n",
    "    \n",
    "    return contentsToRemove\n",
    "    \n",
    "wordstoremove = checkForDuplicateArticles(cleanSample)\n",
    "len(wordstoremove)\n",
    "\n",
    "\n"
   ]
  }
 ],
 "metadata": {
  "kernelspec": {
   "display_name": "ds",
   "language": "python",
   "name": "python3"
  },
  "language_info": {
   "codemirror_mode": {
    "name": "ipython",
    "version": 3
   },
   "file_extension": ".py",
   "mimetype": "text/x-python",
   "name": "python",
   "nbconvert_exporter": "python",
   "pygments_lexer": "ipython3",
   "version": "3.10.9"
  },
  "orig_nbformat": 4
 },
 "nbformat": 4,
 "nbformat_minor": 2
}
